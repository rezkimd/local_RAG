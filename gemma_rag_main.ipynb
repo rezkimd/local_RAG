{
 "cells": [
  {
   "cell_type": "markdown",
   "id": "2a688841",
   "metadata": {},
   "source": [
    "# Retrieval-Augmented Generation using Gemma LLMs\n",
    "\n",
    "Deskripsi :\n",
    "Projek ini ditujukan untuk mengimplementasikan Retrieval-Augmented Generation secara lokal baik sistem serta databasenya.\n"
   ]
  },
  {
   "cell_type": "markdown",
   "id": "1e468d8b",
   "metadata": {},
   "source": [
    "## Key terms\n",
    "\n",
    "| Term                                | Description                                                                                                                                                                                                                                                                                                                                                                                                                                                                                                                                                                                               |\n",
    "| ----------------------------------- | --------------------------------------------------------------------------------------------------------------------------------------------------------------------------------------------------------------------------------------------------------------------------------------------------------------------------------------------------------------------------------------------------------------------------------------------------------------------------------------------------------------------------------------------------------------------------------------------------------- |\n",
    "| **Token**                           | A sub-word piece of text. For example, \"hello, world!\" could be split into [\"hello\", \",\", \"world\", \"!\"]. A token can be a whole word,<br> part of a word or group of punctuation characters. 1 token ~= 4 characters in English, 100 tokens ~= 75 words.<br> Text gets broken into tokens before being passed to an LLM.                                                                                                                                                                                                                                                                                  |\n",
    "| **Embedding**                       | A learned numerical representation of a piece of data. For example, a sentence of text could be represented by a vector with<br> 768 values. Similar pieces of text (in meaning) will ideally have similar values.                                                                                                                                                                                                                                                                                                                                                                                        |\n",
    "| **Embedding model**                 | A model designed to accept input data and output a numerical representation. For example, a text embedding model may take in 384 <br>tokens of text and turn it into a vector of size 768. An embedding model can and often is different to an LLM model.                                                                                                                                                                                                                                                                                                                                                 |\n",
    "| **Similarity search/vector search** | Similarity search/vector search aims to find two vectors which are close together in high-demensional space. For example, <br>two pieces of similar text passed through an embedding model should have a high similarity score, whereas two pieces of text about<br> different topics will have a lower similarity score. Common similarity score measures are dot product and cosine similarity.                                                                                                                                                                                                         |\n",
    "| **Large Language Model (LLM)**      | A model which has been trained to numerically represent the patterns in text. A generative LLM will continue a sequence when given a sequence. <br>For example, given a sequence of the text \"hello, world!\", a genertive LLM may produce \"we're going to build a RAG pipeline today!\".<br> This generation will be highly dependant on the training data and prompt.                                                                                                                                                                                                                                     |\n",
    "| **LLM context window**              | The number of tokens a LLM can accept as input. For example, as of March 2024, GPT-4 has a default context window of 32k tokens<br> (about 96 pages of text) but can go up to 128k if needed. A recent open-source LLM from Google, Gemma (March 2024) has a context<br> window of 8,192 tokens (about 24 pages of text). A higher context window means an LLM can accept more relevant information<br> to assist with a query. For example, in a RAG pipeline, if a model has a larger context window, it can accept more reference items<br> from the retrieval system to aid with its generation.      |\n",
    "| **Prompt**                          | A common term for describing the input to a generative LLM. The idea of \"[prompt engineering](https://en.wikipedia.org/wiki/Prompt_engineering)\" is to structure a text-based<br> (or potentially image-based as well) input to a generative LLM in a specific way so that the generated output is ideal. This technique is<br> possible because of a LLMs capacity for in-context learning, as in, it is able to use its representation of language to breakdown <br>the prompt and recognize what a suitable output may be (note: the output of LLMs is probable, so terms like \"may output\" are used). |\n"
   ]
  },
  {
   "cell_type": "markdown",
   "id": "766c47ec",
   "metadata": {},
   "source": [
    "## Requirements and Setup\n"
   ]
  },
  {
   "cell_type": "code",
   "execution_count": null,
   "id": "13480dfc",
   "metadata": {},
   "outputs": [],
   "source": [
    "import subprocess\n",
    "import sys\n",
    "\n",
    "def install_from_requirements(requirements_file=\"requirements.txt\"):\n",
    "    try:\n",
    "        subprocess.check_call(\n",
    "            [sys.executable, \"-m\", \"pip\", \"install\", \"-r\", requirements_file]\n",
    "        )\n",
    "        print(f\"Sukses menginstal semua paket dari {requirements_file}\")\n",
    "    except subprocess.CalledProcessError as e:\n",
    "        print(f\"Gagal menginstal paket dari {requirements_file}: {e}\")"
   ]
  },
  {
   "cell_type": "markdown",
   "id": "2fb3e773",
   "metadata": {},
   "source": [
    "## 1. PDF Document Reading\n"
   ]
  },
  {
   "cell_type": "code",
   "execution_count": null,
   "id": "3f9be410",
   "metadata": {},
   "outputs": [
    {
     "name": "stdout",
     "output_type": "stream",
     "text": [
      "File 'human-nutrition-text.pdf' sudah ada di 'information_file\\human-nutrition-text.pdf'.\n",
      "Pemeriksaan: File 'human-nutrition-text.pdf' ditemukan di dalam folder 'information_file'.\n"
     ]
    }
   ],
   "source": [
    "import os\n",
    "import requests\n",
    "\n",
    "# Nama folder tujuan\n",
    "target_folder = \"information_file\"\n",
    "\n",
    "# Nama file PDF\n",
    "pdf_filename = \"human-nutrition-text.pdf\"\n",
    "\n",
    "# Path lengkap file PDF di dalam folder target\n",
    "pdf_path = os.path.join(target_folder, pdf_filename)\n",
    "\n",
    "# URL file PDF yang ingin diunduh\n",
    "url = \"https://pressbooks.oer.hawaii.edu/humannutrition2/open/download?type=pdf\"\n",
    "\n",
    "# Buat folder jika belum ada\n",
    "if not os.path.exists(target_folder):\n",
    "    os.makedirs(target_folder)\n",
    "    print(f\"Folder '{target_folder}' telah dibuat.\")\n",
    "\n",
    "# Download PDF jika belum ada\n",
    "if not os.path.exists(pdf_path):\n",
    "    print(f\"File '{pdf_filename}' tidak ditemukan di '{target_folder}'. Mengunduh...\")\n",
    "\n",
    "    try:\n",
    "        # Kirim permintaan GET ke URL\n",
    "        response = requests.get(url)\n",
    "        response.raise_for_status()  # Akan memunculkan HTTPError untuk respons yang buruk (status code 4xx atau 5xx)\n",
    "\n",
    "        # Buka file dalam mode binary write dan simpan konten\n",
    "        with open(pdf_path, \"wb\") as file:\n",
    "            file.write(response.content)\n",
    "        print(f\"File '{pdf_filename}' telah diunduh dan disimpan di '{pdf_path}'.\")\n",
    "\n",
    "    except requests.exceptions.RequestException as e:\n",
    "        print(f\"Gagal mengunduh file. Error: {e}\")\n",
    "\n",
    "else:\n",
    "    print(f\"File '{pdf_filename}' sudah ada di '{pdf_path}'.\")\n",
    "\n",
    "# Cek keberadaan file setelah (mencoba) diunduh\n",
    "if os.path.exists(pdf_path):\n",
    "    print(f\"Pemeriksaan: File '{pdf_filename}' ditemukan di dalam folder '{target_folder}'.\")\n",
    "else:\n",
    "    print(f\"Pemeriksaan: File '{pdf_filename}' TIDAK ditemukan di dalam folder '{target_folder}'.\")"
   ]
  },
  {
   "cell_type": "code",
   "execution_count": 26,
   "id": "60b0bf8f",
   "metadata": {},
   "outputs": [
    {
     "name": "stderr",
     "output_type": "stream",
     "text": [
      "1208it [00:01, 637.26it/s]\n"
     ]
    },
    {
     "data": {
      "text/plain": [
       "[{'page_number': -41,\n",
       "  'page_char_count': 29,\n",
       "  'page_word_count': 4,\n",
       "  'page_sentence_count_raw': 1,\n",
       "  'page_token_count': 7.25,\n",
       "  'text': 'Human Nutrition: 2020 Edition'},\n",
       " {'page_number': -40,\n",
       "  'page_char_count': 0,\n",
       "  'page_word_count': 1,\n",
       "  'page_sentence_count_raw': 1,\n",
       "  'page_token_count': 0.0,\n",
       "  'text': ''}]"
      ]
     },
     "execution_count": 26,
     "metadata": {},
     "output_type": "execute_result"
    }
   ],
   "source": [
    "# Requires !pip install PyMuPDF, see: https://github.com/pymupdf/pymupdf\n",
    "import pymupdf # (pymupdf, found this is better than pypdf for our use case, note: licence is AGPL-3.0, keep that in mind if you want to use any code commercially)\n",
    "from tqdm.auto import tqdm # for progress bars, requires !pip install tqdm \n",
    "\n",
    "def text_formatter(text: str) -> str:\n",
    "    \"\"\"Performs minor formatting on text.\"\"\"\n",
    "    cleaned_text = text.replace(\"\\n\", \" \").strip() # note: this might be different for each doc (best to experiment)\n",
    "\n",
    "    # Other potential text formatting functions can go here\n",
    "    return cleaned_text\n",
    "\n",
    "# Open PDF and get lines/pages\n",
    "# Note: this only focuses on text, rather than images/figures etc\n",
    "def open_and_read_pdf(pdf_path: str) -> list[dict]:\n",
    "    \"\"\"\n",
    "    Opens a PDF file, reads its text content page by page, and collects statistics.\n",
    "\n",
    "    Parameters:\n",
    "        pdf_path (str): The file path to the PDF document to be opened and read.\n",
    "\n",
    "    Returns:\n",
    "        list[dict]: A list of dictionaries, each containing the page number\n",
    "        (adjusted), character count, word count, sentence count, token count, and the extracted text\n",
    "        for each page.\n",
    "    \"\"\"\n",
    "    #doc = fitz.open(pdf_path)  # open a document\n",
    "    doc = pymupdf.open(pdf_path)\n",
    "    pages_and_texts = []\n",
    "    for page_number, page in tqdm(enumerate(doc)):  # iterate the document pages\n",
    "        text = page.get_text()  # get plain text encoded as UTF-8\n",
    "        text = text_formatter(text)\n",
    "        pages_and_texts.append({\"page_number\": page_number - 41,  # adjust page numbers since our PDF starts on page 42\n",
    "                                \"page_char_count\": len(text),\n",
    "                                \"page_word_count\": len(text.split(\" \")),\n",
    "                                \"page_sentence_count_raw\": len(text.split(\". \")),\n",
    "                                \"page_token_count\": len(text) / 4,  # 1 token = ~4 chars, see: https://help.openai.com/en/articles/4936856-what-are-tokens-and-how-to-count-them\n",
    "                                \"text\": text})\n",
    "    return pages_and_texts\n",
    "\n",
    "pages_and_texts = open_and_read_pdf(pdf_path=pdf_path)\n",
    "pages_and_texts[:2]"
   ]
  },
  {
   "cell_type": "code",
   "execution_count": 4,
   "id": "49093be2",
   "metadata": {},
   "outputs": [
    {
     "data": {
      "text/html": [
       "<div>\n",
       "<style scoped>\n",
       "    .dataframe tbody tr th:only-of-type {\n",
       "        vertical-align: middle;\n",
       "    }\n",
       "\n",
       "    .dataframe tbody tr th {\n",
       "        vertical-align: top;\n",
       "    }\n",
       "\n",
       "    .dataframe thead th {\n",
       "        text-align: right;\n",
       "    }\n",
       "</style>\n",
       "<table border=\"1\" class=\"dataframe\">\n",
       "  <thead>\n",
       "    <tr style=\"text-align: right;\">\n",
       "      <th></th>\n",
       "      <th>page_number</th>\n",
       "      <th>page_char_count</th>\n",
       "      <th>page_word_count</th>\n",
       "      <th>page_sentence_count_raw</th>\n",
       "      <th>page_token_count</th>\n",
       "    </tr>\n",
       "  </thead>\n",
       "  <tbody>\n",
       "    <tr>\n",
       "      <th>count</th>\n",
       "      <td>1208.00</td>\n",
       "      <td>1208.00</td>\n",
       "      <td>1208.00</td>\n",
       "      <td>1208.00</td>\n",
       "      <td>1208.00</td>\n",
       "    </tr>\n",
       "    <tr>\n",
       "      <th>mean</th>\n",
       "      <td>562.50</td>\n",
       "      <td>1148.00</td>\n",
       "      <td>198.30</td>\n",
       "      <td>9.97</td>\n",
       "      <td>287.00</td>\n",
       "    </tr>\n",
       "    <tr>\n",
       "      <th>std</th>\n",
       "      <td>348.86</td>\n",
       "      <td>560.38</td>\n",
       "      <td>95.76</td>\n",
       "      <td>6.19</td>\n",
       "      <td>140.10</td>\n",
       "    </tr>\n",
       "    <tr>\n",
       "      <th>min</th>\n",
       "      <td>-41.00</td>\n",
       "      <td>0.00</td>\n",
       "      <td>1.00</td>\n",
       "      <td>1.00</td>\n",
       "      <td>0.00</td>\n",
       "    </tr>\n",
       "    <tr>\n",
       "      <th>25%</th>\n",
       "      <td>260.75</td>\n",
       "      <td>762.00</td>\n",
       "      <td>134.00</td>\n",
       "      <td>4.00</td>\n",
       "      <td>190.50</td>\n",
       "    </tr>\n",
       "    <tr>\n",
       "      <th>50%</th>\n",
       "      <td>562.50</td>\n",
       "      <td>1231.50</td>\n",
       "      <td>214.50</td>\n",
       "      <td>10.00</td>\n",
       "      <td>307.88</td>\n",
       "    </tr>\n",
       "    <tr>\n",
       "      <th>75%</th>\n",
       "      <td>864.25</td>\n",
       "      <td>1603.50</td>\n",
       "      <td>271.00</td>\n",
       "      <td>14.00</td>\n",
       "      <td>400.88</td>\n",
       "    </tr>\n",
       "    <tr>\n",
       "      <th>max</th>\n",
       "      <td>1166.00</td>\n",
       "      <td>2308.00</td>\n",
       "      <td>429.00</td>\n",
       "      <td>32.00</td>\n",
       "      <td>577.00</td>\n",
       "    </tr>\n",
       "  </tbody>\n",
       "</table>\n",
       "</div>"
      ],
      "text/plain": [
       "       page_number  page_char_count  page_word_count  page_sentence_count_raw  \\\n",
       "count      1208.00          1208.00          1208.00                  1208.00   \n",
       "mean        562.50          1148.00           198.30                     9.97   \n",
       "std         348.86           560.38            95.76                     6.19   \n",
       "min         -41.00             0.00             1.00                     1.00   \n",
       "25%         260.75           762.00           134.00                     4.00   \n",
       "50%         562.50          1231.50           214.50                    10.00   \n",
       "75%         864.25          1603.50           271.00                    14.00   \n",
       "max        1166.00          2308.00           429.00                    32.00   \n",
       "\n",
       "       page_token_count  \n",
       "count           1208.00  \n",
       "mean             287.00  \n",
       "std              140.10  \n",
       "min                0.00  \n",
       "25%              190.50  \n",
       "50%              307.88  \n",
       "75%              400.88  \n",
       "max              577.00  "
      ]
     },
     "execution_count": 4,
     "metadata": {},
     "output_type": "execute_result"
    }
   ],
   "source": [
    "#Taking sample of text from the information file\n",
    "import random\n",
    "import pandas as pd\n",
    "\n",
    "random.sample(pages_and_texts, k=3)\n",
    "df = pd.DataFrame(pages_and_texts)\n",
    "df.head()\n",
    "\n",
    "#stats of the book we collected\n",
    "df.describe().round(2)"
   ]
  },
  {
   "cell_type": "markdown",
   "id": "528e8667",
   "metadata": {},
   "source": [
    "## 2. Text Splitting/Chunking\n"
   ]
  },
  {
   "cell_type": "code",
   "execution_count": 28,
   "id": "ac15b1ec",
   "metadata": {},
   "outputs": [
    {
     "data": {
      "text/plain": [
       "[This is a sentence., This another sentence.]"
      ]
     },
     "execution_count": 28,
     "metadata": {},
     "output_type": "execute_result"
    }
   ],
   "source": [
    "from spacy.lang.en import English # see https://spacy.io/usage for install instructions\n",
    "\n",
    "nlp = English()\n",
    "\n",
    "# Add a sentencizer pipeline, see https://spacy.io/api/sentencizer/ \n",
    "nlp.add_pipe(\"sentencizer\")\n",
    "\n",
    "# Create a document instance as an example\n",
    "doc = nlp(\"This is a sentence. This another sentence.\")\n",
    "assert len(list(doc.sents)) == 2\n",
    "\n",
    "# Access the sentences of the document\n",
    "list(doc.sents)"
   ]
  },
  {
   "cell_type": "code",
   "execution_count": 30,
   "id": "0fa91ac1",
   "metadata": {},
   "outputs": [
    {
     "name": "stderr",
     "output_type": "stream",
     "text": [
      "  0%|          | 0/1208 [00:00<?, ?it/s]"
     ]
    },
    {
     "name": "stderr",
     "output_type": "stream",
     "text": [
      "100%|██████████| 1208/1208 [00:01<00:00, 701.79it/s]\n"
     ]
    },
    {
     "data": {
      "text/plain": [
       "[{'page_number': 745,\n",
       "  'page_char_count': 707,\n",
       "  'page_word_count': 138,\n",
       "  'page_sentence_count_raw': 4,\n",
       "  'page_token_count': 176.75,\n",
       "  'text': 'MyPlate Planner  UNIVERSITY OF HAWAI‘I AT MĀNOA FOOD SCIENCE AND HUMAN  NUTRITION PROGRAM AND HUMAN NUTRITION PROGRAM  Estimating portions can be done using the MyPlate Planner. Recall  that the MyPlate symbol is divided according to how much of each  food group should be included with each meal. Note the MyPlate  Planner Methods of Use:  • Fill half of your plate with vegetables such as carrots, broccoli,  salad, and fruit.  • Fill one-quarter of your plate with lean meat, chicken, or fish  (about 3 ounces)  • Fill one-quarter of your plate with a whole grain such as ⅓ cup  rice  • Choose one serving of dairy  • Add margarine or oil for preparation or addition at the table  MyPlate Planner  |  745',\n",
       "  'sentences': ['MyPlate Planner  UNIVERSITY OF HAWAI‘I AT MĀNOA FOOD SCIENCE AND HUMAN  NUTRITION PROGRAM AND HUMAN NUTRITION PROGRAM  Estimating portions can be done using the MyPlate Planner.',\n",
       "   'Recall  that the MyPlate symbol is divided according to how much of each  food group should be included with each meal.',\n",
       "   'Note the MyPlate  Planner Methods of Use:  • Fill half of your plate with vegetables such as carrots, broccoli,  salad, and fruit.',\n",
       "   ' • Fill one-quarter of your plate with lean meat, chicken, or fish  (about 3 ounces)  • Fill one-quarter of your plate with a whole grain such as ⅓ cup  rice  • Choose one serving of dairy  • Add margarine or oil for preparation or addition at the table  MyPlate Planner  |  745'],\n",
       "  'page_sentence_count_spacy': 4}]"
      ]
     },
     "execution_count": 30,
     "metadata": {},
     "output_type": "execute_result"
    }
   ],
   "source": [
    "import random\n",
    "for item in tqdm(pages_and_texts):\n",
    "    item[\"sentences\"] = list(nlp(item[\"text\"]).sents)\n",
    "    \n",
    "    # Make sure all sentences are strings\n",
    "    item[\"sentences\"] = [str(sentence) for sentence in item[\"sentences\"]]\n",
    "    \n",
    "    # Count the sentences \n",
    "    item[\"page_sentence_count_spacy\"] = len(item[\"sentences\"])\n",
    "\n",
    "# Inspect an example\n",
    "random.sample(pages_and_texts, k=1)"
   ]
  },
  {
   "cell_type": "code",
   "execution_count": 31,
   "id": "5d1bd0c0",
   "metadata": {},
   "outputs": [
    {
     "name": "stderr",
     "output_type": "stream",
     "text": [
      "100%|██████████| 1208/1208 [00:00<00:00, 262960.31it/s]\n"
     ]
    },
    {
     "data": {
      "text/plain": [
       "[{'page_number': 734,\n",
       "  'page_char_count': 1571,\n",
       "  'page_word_count': 264,\n",
       "  'page_sentence_count_raw': 14,\n",
       "  'page_token_count': 392.75,\n",
       "  'text': 'Qualified Health Claims  While health claims must be backed up by hard scientific evidence,  qualified health claims have supportive evidence, which is not as  definitive as with health claims. The evidence may suggest that  the food or nutrient is beneficial. Qualified health claims can be  made for both dietary supplements and conventional food items.  Wording for this type of claim may look like this: “Supportive but  not conclusive research shows that consumption of EPA and DHA  omega-3 fatty acids may reduce the risk of coronary artery disease.  One serving of [name of food] provides [X] grams of EPA and DHA  omega-3 fatty acids. [See nutrition information for total fat,  saturated fat, and cholesterol content.] Dietary supplements may  declare the amount of EPA and DHA per serving in their section for  “supplement facts” instead.  Soure: FDA (2013). Guidance for Industry: Food Labeling Guide.  http://www.fda.gov/foodlabelingguide  Structure/Function Claims  Some companies claim that certain foods and nutrients have  benefits for health even though no scientific evidence exists. In  these cases, food labels are permitted to claim that you may benefit  from the food because it may boost your immune system, for  example. There may not be claims of diagnosis, cures, treatment, or  disease prevention, and there must be a disclaimer that the FDA has  not evaluated the claim4.  4.\\xa0Claims That Can Be Made for Conventional Foods and  Dietary Supplements. US Food and Drug Administration.  https://www.fda.gov/food/ 734  |  Discovering Nutrition Facts',\n",
       "  'sentences': ['Qualified Health Claims  While health claims must be backed up by hard scientific evidence,  qualified health claims have supportive evidence, which is not as  definitive as with health claims.',\n",
       "   'The evidence may suggest that  the food or nutrient is beneficial.',\n",
       "   'Qualified health claims can be  made for both dietary supplements and conventional food items.',\n",
       "   ' Wording for this type of claim may look like this: “Supportive but  not conclusive research shows that consumption of EPA and DHA  omega-3 fatty acids may reduce the risk of coronary artery disease.',\n",
       "   ' One serving of [name of food] provides [X] grams of EPA and DHA  omega-3 fatty acids. [',\n",
       "   'See nutrition information for total fat,  saturated fat, and cholesterol content.]',\n",
       "   'Dietary supplements may  declare the amount of EPA and DHA per serving in their section for  “supplement facts” instead.',\n",
       "   ' Soure: FDA (2013).',\n",
       "   'Guidance for Industry: Food Labeling Guide.',\n",
       "   ' http://www.fda.gov/foodlabelingguide  Structure/Function Claims  Some companies claim that certain foods and nutrients have  benefits for health even though no scientific evidence exists.',\n",
       "   'In  these cases, food labels are permitted to claim that you may benefit  from the food because it may boost your immune system, for  example.',\n",
       "   'There may not be claims of diagnosis, cures, treatment, or  disease prevention, and there must be a disclaimer that the FDA has  not evaluated the claim4.',\n",
       "   ' 4.',\n",
       "   '\\xa0Claims That Can Be Made for Conventional Foods and  Dietary Supplements.',\n",
       "   'US Food and Drug Administration.',\n",
       "   ' https://www.fda.gov/food/ 734  |  Discovering Nutrition Facts'],\n",
       "  'page_sentence_count_spacy': 16,\n",
       "  'sentence_chunks': [['Qualified Health Claims  While health claims must be backed up by hard scientific evidence,  qualified health claims have supportive evidence, which is not as  definitive as with health claims.',\n",
       "    'The evidence may suggest that  the food or nutrient is beneficial.',\n",
       "    'Qualified health claims can be  made for both dietary supplements and conventional food items.',\n",
       "    ' Wording for this type of claim may look like this: “Supportive but  not conclusive research shows that consumption of EPA and DHA  omega-3 fatty acids may reduce the risk of coronary artery disease.',\n",
       "    ' One serving of [name of food] provides [X] grams of EPA and DHA  omega-3 fatty acids. [',\n",
       "    'See nutrition information for total fat,  saturated fat, and cholesterol content.]',\n",
       "    'Dietary supplements may  declare the amount of EPA and DHA per serving in their section for  “supplement facts” instead.',\n",
       "    ' Soure: FDA (2013).',\n",
       "    'Guidance for Industry: Food Labeling Guide.',\n",
       "    ' http://www.fda.gov/foodlabelingguide  Structure/Function Claims  Some companies claim that certain foods and nutrients have  benefits for health even though no scientific evidence exists.',\n",
       "    'In  these cases, food labels are permitted to claim that you may benefit  from the food because it may boost your immune system, for  example.',\n",
       "    'There may not be claims of diagnosis, cures, treatment, or  disease prevention, and there must be a disclaimer that the FDA has  not evaluated the claim4.',\n",
       "    ' 4.',\n",
       "    '\\xa0Claims That Can Be Made for Conventional Foods and  Dietary Supplements.',\n",
       "    'US Food and Drug Administration.',\n",
       "    ' https://www.fda.gov/food/ 734  |  Discovering Nutrition Facts']],\n",
       "  'num_chunks': 1}]"
      ]
     },
     "execution_count": 31,
     "metadata": {},
     "output_type": "execute_result"
    }
   ],
   "source": [
    "# Define split size to turn groups of sentences into chunks\n",
    "num_sentence_chunk_size = 30 \n",
    "\n",
    "# Create a function that recursively splits a list into desired sizes\n",
    "def split_list(input_list: list, \n",
    "               slice_size: int) -> list[list[str]]:\n",
    "    \"\"\"\n",
    "    Splits the input_list into sublists of size slice_size (or as close as possible).\n",
    "\n",
    "    For example, a list of 17 sentences would be split into two lists of [[10], [7]]\n",
    "    \"\"\"\n",
    "    return [input_list[i:i + slice_size] for i in range(0, len(input_list), slice_size)]\n",
    "\n",
    "# Loop through pages and texts and split sentences into chunks\n",
    "for item in tqdm(pages_and_texts):\n",
    "    item[\"sentence_chunks\"] = split_list(input_list=item[\"sentences\"],\n",
    "                                         slice_size=num_sentence_chunk_size)\n",
    "    item[\"num_chunks\"] = len(item[\"sentence_chunks\"])\n",
    "\n",
    "# Sample an example from the group (note: many samples have only 1 chunk as they have <=10 sentences total)\n",
    "random.sample(pages_and_texts, k=1)"
   ]
  },
  {
   "cell_type": "code",
   "execution_count": 32,
   "id": "3e6edd90",
   "metadata": {},
   "outputs": [
    {
     "name": "stderr",
     "output_type": "stream",
     "text": [
      "100%|██████████| 1208/1208 [00:00<00:00, 17476.33it/s]\n"
     ]
    },
    {
     "data": {
      "text/plain": [
       "1179"
      ]
     },
     "execution_count": 32,
     "metadata": {},
     "output_type": "execute_result"
    }
   ],
   "source": [
    "import re\n",
    "\n",
    "# Split each chunk into its own item\n",
    "pages_and_chunks = []\n",
    "for item in tqdm(pages_and_texts):\n",
    "    for sentence_chunk in item[\"sentence_chunks\"]:\n",
    "        chunk_dict = {}\n",
    "        chunk_dict[\"page_number\"] = item[\"page_number\"]\n",
    "        \n",
    "        # Join the sentences together into a paragraph-like structure, aka a chunk (so they are a single string)\n",
    "        joined_sentence_chunk = \"\".join(sentence_chunk).replace(\"  \", \" \").strip()\n",
    "        joined_sentence_chunk = re.sub(r'\\.([A-Z])', r'. \\1', joined_sentence_chunk) # \".A\" -> \". A\" for any full-stop/capital letter combo \n",
    "        chunk_dict[\"sentence_chunk\"] = joined_sentence_chunk\n",
    "\n",
    "        # Get stats about the chunk\n",
    "        chunk_dict[\"chunk_char_count\"] = len(joined_sentence_chunk)\n",
    "        chunk_dict[\"chunk_word_count\"] = len([word for word in joined_sentence_chunk.split(\" \")])\n",
    "        chunk_dict[\"chunk_token_count\"] = len(joined_sentence_chunk) / 4 # 1 token = ~4 characters\n",
    "        \n",
    "        pages_and_chunks.append(chunk_dict)\n",
    "\n",
    "# How many chunks do we have?\n",
    "len(pages_and_chunks)"
   ]
  },
  {
   "cell_type": "code",
   "execution_count": 34,
   "id": "992c8f68",
   "metadata": {},
   "outputs": [
    {
     "data": {
      "text/html": [
       "<div>\n",
       "<style scoped>\n",
       "    .dataframe tbody tr th:only-of-type {\n",
       "        vertical-align: middle;\n",
       "    }\n",
       "\n",
       "    .dataframe tbody tr th {\n",
       "        vertical-align: top;\n",
       "    }\n",
       "\n",
       "    .dataframe thead th {\n",
       "        text-align: right;\n",
       "    }\n",
       "</style>\n",
       "<table border=\"1\" class=\"dataframe\">\n",
       "  <thead>\n",
       "    <tr style=\"text-align: right;\">\n",
       "      <th></th>\n",
       "      <th>page_number</th>\n",
       "      <th>chunk_char_count</th>\n",
       "      <th>chunk_word_count</th>\n",
       "      <th>chunk_token_count</th>\n",
       "    </tr>\n",
       "  </thead>\n",
       "  <tbody>\n",
       "    <tr>\n",
       "      <th>count</th>\n",
       "      <td>1179.00</td>\n",
       "      <td>1179.00</td>\n",
       "      <td>1179.00</td>\n",
       "      <td>1179.00</td>\n",
       "    </tr>\n",
       "    <tr>\n",
       "      <th>mean</th>\n",
       "      <td>561.27</td>\n",
       "      <td>1148.60</td>\n",
       "      <td>175.51</td>\n",
       "      <td>287.15</td>\n",
       "    </tr>\n",
       "    <tr>\n",
       "      <th>std</th>\n",
       "      <td>348.90</td>\n",
       "      <td>528.91</td>\n",
       "      <td>82.55</td>\n",
       "      <td>132.23</td>\n",
       "    </tr>\n",
       "    <tr>\n",
       "      <th>min</th>\n",
       "      <td>-41.00</td>\n",
       "      <td>15.00</td>\n",
       "      <td>3.00</td>\n",
       "      <td>3.75</td>\n",
       "    </tr>\n",
       "    <tr>\n",
       "      <th>25%</th>\n",
       "      <td>258.50</td>\n",
       "      <td>765.00</td>\n",
       "      <td>117.00</td>\n",
       "      <td>191.25</td>\n",
       "    </tr>\n",
       "    <tr>\n",
       "      <th>50%</th>\n",
       "      <td>561.00</td>\n",
       "      <td>1209.00</td>\n",
       "      <td>186.00</td>\n",
       "      <td>302.25</td>\n",
       "    </tr>\n",
       "    <tr>\n",
       "      <th>75%</th>\n",
       "      <td>861.50</td>\n",
       "      <td>1577.00</td>\n",
       "      <td>238.00</td>\n",
       "      <td>394.25</td>\n",
       "    </tr>\n",
       "    <tr>\n",
       "      <th>max</th>\n",
       "      <td>1166.00</td>\n",
       "      <td>2271.00</td>\n",
       "      <td>392.00</td>\n",
       "      <td>567.75</td>\n",
       "    </tr>\n",
       "  </tbody>\n",
       "</table>\n",
       "</div>"
      ],
      "text/plain": [
       "       page_number  chunk_char_count  chunk_word_count  chunk_token_count\n",
       "count      1179.00           1179.00           1179.00            1179.00\n",
       "mean        561.27           1148.60            175.51             287.15\n",
       "std         348.90            528.91             82.55             132.23\n",
       "min         -41.00             15.00              3.00               3.75\n",
       "25%         258.50            765.00            117.00             191.25\n",
       "50%         561.00           1209.00            186.00             302.25\n",
       "75%         861.50           1577.00            238.00             394.25\n",
       "max        1166.00           2271.00            392.00             567.75"
      ]
     },
     "execution_count": 34,
     "metadata": {},
     "output_type": "execute_result"
    }
   ],
   "source": [
    "# Get stats about our chunks\n",
    "import pandas as pd\n",
    "df = pd.DataFrame(pages_and_chunks)\n",
    "df.describe().round(2)"
   ]
  },
  {
   "cell_type": "code",
   "execution_count": 35,
   "id": "b2e24d25",
   "metadata": {},
   "outputs": [
    {
     "name": "stdout",
     "output_type": "stream",
     "text": [
      "Chunk token count: 16.75 | Text: PART XI CHAPTER 11. TRACE MINERALS Chapter 11. Trace Minerals | 649\n",
      "Chunk token count: 28.75 | Text: Image by FDA/ Changes to the Nutrition Facts Label Figure 12.5 Food Serving Sizes 728 | Discovering Nutrition Facts\n",
      "Chunk token count: 20.5 | Text: PART XVI CHAPTER 16. PERFORMANCE NUTRITION Chapter 16. Performance Nutrition | 931\n",
      "Chunk token count: 25.25 | Text: PART XV CHAPTER 15. LIFESPAN NUTRITION IN ADULTHOOD Chapter 15. Lifespan Nutrition in Adulthood | 901\n",
      "Chunk token count: 23.0 | Text: view it online here: http://pressbooks.oer.hawaii.edu/ humannutrition2/?p=301 The Atom | 471\n"
     ]
    }
   ],
   "source": [
    "# Show random chunks with under 30 tokens in length\n",
    "min_token_length = 30\n",
    "for row in df[df[\"chunk_token_count\"] <= min_token_length].sample(5).iterrows():\n",
    "    print(f'Chunk token count: {row[1][\"chunk_token_count\"]} | Text: {row[1][\"sentence_chunk\"]}')"
   ]
  },
  {
   "cell_type": "code",
   "execution_count": 36,
   "id": "1596f56b",
   "metadata": {},
   "outputs": [
    {
     "data": {
      "text/plain": [
       "[{'page_number': -39,\n",
       "  'sentence_chunk': 'Human Nutrition: 2020 Edition UNIVERSITY OF HAWAI‘I AT MĀNOA FOOD SCIENCE AND HUMAN NUTRITION PROGRAM ALAN TITCHENAL, SKYLAR HARA, NOEMI ARCEO CAACBAY, WILLIAM MEINKE-LAU, YA-YUN YANG, MARIE KAINOA FIALKOWSKI REVILLA, JENNIFER DRAPER, GEMADY LANGFELDER, CHERYL GIBBY, CHYNA NICOLE CHUN, AND ALLISON CALABRESE',\n",
       "  'chunk_char_count': 308,\n",
       "  'chunk_word_count': 42,\n",
       "  'chunk_token_count': 77.0},\n",
       " {'page_number': -38,\n",
       "  'sentence_chunk': 'Human Nutrition: 2020 Edition by University of Hawai‘i at Mānoa Food Science and Human Nutrition Program is licensed under a Creative Commons Attribution 4.0 International License, except where otherwise noted.',\n",
       "  'chunk_char_count': 210,\n",
       "  'chunk_word_count': 30,\n",
       "  'chunk_token_count': 52.5}]"
      ]
     },
     "execution_count": 36,
     "metadata": {},
     "output_type": "execute_result"
    }
   ],
   "source": [
    "pages_and_chunks_over_min_token_len = df[\n",
    "    df[\"chunk_token_count\"] > min_token_length\n",
    "].to_dict(orient=\"records\")\n",
    "pages_and_chunks_over_min_token_len[:2]"
   ]
  },
  {
   "cell_type": "markdown",
   "id": "09610060",
   "metadata": {},
   "source": [
    "## 3. Chunk Embedding\n"
   ]
  },
  {
   "cell_type": "code",
   "execution_count": null,
   "id": "b3b33092",
   "metadata": {},
   "outputs": [],
   "source": [
    "# Requires !pip install sentence-transformers\n",
    "from sentence_transformers import SentenceTransformer\n",
    "\n",
    "embedding_model = SentenceTransformer(\n",
    "    model_name_or_path=\"all-mpnet-base-v2\", device=\"cpu\"\n",
    ")  # choose the device to load the model to (note: GPU will often be *much* faster than CPU)\n",
    "\n",
    "# Create a list of sentences to turn into numbers\n",
    "sentences = [\n",
    "    \"The Sentences Transformers library provides an easy and open-source way to create embeddings.\",\n",
    "    \"Sentences can be embedded one by one or as a list of strings.\",\n",
    "    \"Embeddings are one of the most powerful concepts in machine learning!\",\n",
    "    \"Learn to use embeddings well and you'll be well on your way to being an AI engineer.\",\n",
    "]\n",
    "\n",
    "# Sentences are encoded/embedded by calling model.encode()\n",
    "embeddings = embedding_model.encode(sentences)\n",
    "embeddings_dict = dict(zip(sentences, embeddings))\n",
    "\n",
    "# See the embeddings\n",
    "for sentence, embedding in embeddings_dict.items():\n",
    "    print(\"Sentence:\", sentence)\n",
    "    print(\"Embedding:\", embedding)\n",
    "    print(\"\")"
   ]
  },
  {
   "cell_type": "code",
   "execution_count": null,
   "id": "01cd748a",
   "metadata": {},
   "outputs": [],
   "source": [
    "single_sentence = \"Yo! How cool are embeddings?\"\n",
    "single_embedding = embedding_model.encode(single_sentence)\n",
    "print(f\"Sentence: {single_sentence}\")\n",
    "print(f\"Embedding:\\n{single_embedding}\")\n",
    "print(f\"Embedding size: {single_embedding.shape}\")"
   ]
  },
  {
   "cell_type": "code",
   "execution_count": 40,
   "id": "1d0d814d",
   "metadata": {},
   "outputs": [
    {
     "name": "stderr",
     "output_type": "stream",
     "text": [
      "  2%|▏         | 24/1136 [00:05<04:31,  4.10it/s]\n"
     ]
    },
    {
     "ename": "KeyboardInterrupt",
     "evalue": "",
     "output_type": "error",
     "traceback": [
      "\u001b[1;31m---------------------------------------------------------------------------\u001b[0m",
      "\u001b[1;31mKeyboardInterrupt\u001b[0m                         Traceback (most recent call last)",
      "File \u001b[1;32m<timed exec>:7\u001b[0m\n",
      "File \u001b[1;32mc:\\Users\\rezki\\anaconda3\\envs\\local_rag_gemma_env\\lib\\site-packages\\sentence_transformers\\SentenceTransformer.py:685\u001b[0m, in \u001b[0;36mSentenceTransformer.encode\u001b[1;34m(self, sentences, prompt_name, prompt, batch_size, show_progress_bar, output_value, precision, convert_to_numpy, convert_to_tensor, device, normalize_embeddings, **kwargs)\u001b[0m\n\u001b[0;32m    682\u001b[0m features\u001b[38;5;241m.\u001b[39mupdate(extra_features)\n\u001b[0;32m    684\u001b[0m \u001b[38;5;28;01mwith\u001b[39;00m torch\u001b[38;5;241m.\u001b[39mno_grad():\n\u001b[1;32m--> 685\u001b[0m     out_features \u001b[38;5;241m=\u001b[39m \u001b[38;5;28mself\u001b[39m\u001b[38;5;241m.\u001b[39mforward(features, \u001b[38;5;241m*\u001b[39m\u001b[38;5;241m*\u001b[39mkwargs)\n\u001b[0;32m    686\u001b[0m     \u001b[38;5;28;01mif\u001b[39;00m \u001b[38;5;28mself\u001b[39m\u001b[38;5;241m.\u001b[39mdevice\u001b[38;5;241m.\u001b[39mtype \u001b[38;5;241m==\u001b[39m \u001b[38;5;124m\"\u001b[39m\u001b[38;5;124mhpu\u001b[39m\u001b[38;5;124m\"\u001b[39m:\n\u001b[0;32m    687\u001b[0m         out_features \u001b[38;5;241m=\u001b[39m copy\u001b[38;5;241m.\u001b[39mdeepcopy(out_features)\n",
      "File \u001b[1;32mc:\\Users\\rezki\\anaconda3\\envs\\local_rag_gemma_env\\lib\\site-packages\\sentence_transformers\\SentenceTransformer.py:758\u001b[0m, in \u001b[0;36mSentenceTransformer.forward\u001b[1;34m(self, input, **kwargs)\u001b[0m\n\u001b[0;32m    756\u001b[0m     module_kwarg_keys \u001b[38;5;241m=\u001b[39m \u001b[38;5;28mself\u001b[39m\u001b[38;5;241m.\u001b[39mmodule_kwargs\u001b[38;5;241m.\u001b[39mget(module_name, [])\n\u001b[0;32m    757\u001b[0m     module_kwargs \u001b[38;5;241m=\u001b[39m {key: value \u001b[38;5;28;01mfor\u001b[39;00m key, value \u001b[38;5;129;01min\u001b[39;00m kwargs\u001b[38;5;241m.\u001b[39mitems() \u001b[38;5;28;01mif\u001b[39;00m key \u001b[38;5;129;01min\u001b[39;00m module_kwarg_keys}\n\u001b[1;32m--> 758\u001b[0m     \u001b[38;5;28minput\u001b[39m \u001b[38;5;241m=\u001b[39m module(\u001b[38;5;28minput\u001b[39m, \u001b[38;5;241m*\u001b[39m\u001b[38;5;241m*\u001b[39mmodule_kwargs)\n\u001b[0;32m    759\u001b[0m \u001b[38;5;28;01mreturn\u001b[39;00m \u001b[38;5;28minput\u001b[39m\n",
      "File \u001b[1;32mc:\\Users\\rezki\\anaconda3\\envs\\local_rag_gemma_env\\lib\\site-packages\\torch\\nn\\modules\\module.py:1751\u001b[0m, in \u001b[0;36mModule._wrapped_call_impl\u001b[1;34m(self, *args, **kwargs)\u001b[0m\n\u001b[0;32m   1749\u001b[0m     \u001b[38;5;28;01mreturn\u001b[39;00m \u001b[38;5;28mself\u001b[39m\u001b[38;5;241m.\u001b[39m_compiled_call_impl(\u001b[38;5;241m*\u001b[39margs, \u001b[38;5;241m*\u001b[39m\u001b[38;5;241m*\u001b[39mkwargs)  \u001b[38;5;66;03m# type: ignore[misc]\u001b[39;00m\n\u001b[0;32m   1750\u001b[0m \u001b[38;5;28;01melse\u001b[39;00m:\n\u001b[1;32m-> 1751\u001b[0m     \u001b[38;5;28;01mreturn\u001b[39;00m \u001b[38;5;28mself\u001b[39m\u001b[38;5;241m.\u001b[39m_call_impl(\u001b[38;5;241m*\u001b[39margs, \u001b[38;5;241m*\u001b[39m\u001b[38;5;241m*\u001b[39mkwargs)\n",
      "File \u001b[1;32mc:\\Users\\rezki\\anaconda3\\envs\\local_rag_gemma_env\\lib\\site-packages\\torch\\nn\\modules\\module.py:1762\u001b[0m, in \u001b[0;36mModule._call_impl\u001b[1;34m(self, *args, **kwargs)\u001b[0m\n\u001b[0;32m   1757\u001b[0m \u001b[38;5;66;03m# If we don't have any hooks, we want to skip the rest of the logic in\u001b[39;00m\n\u001b[0;32m   1758\u001b[0m \u001b[38;5;66;03m# this function, and just call forward.\u001b[39;00m\n\u001b[0;32m   1759\u001b[0m \u001b[38;5;28;01mif\u001b[39;00m \u001b[38;5;129;01mnot\u001b[39;00m (\u001b[38;5;28mself\u001b[39m\u001b[38;5;241m.\u001b[39m_backward_hooks \u001b[38;5;129;01mor\u001b[39;00m \u001b[38;5;28mself\u001b[39m\u001b[38;5;241m.\u001b[39m_backward_pre_hooks \u001b[38;5;129;01mor\u001b[39;00m \u001b[38;5;28mself\u001b[39m\u001b[38;5;241m.\u001b[39m_forward_hooks \u001b[38;5;129;01mor\u001b[39;00m \u001b[38;5;28mself\u001b[39m\u001b[38;5;241m.\u001b[39m_forward_pre_hooks\n\u001b[0;32m   1760\u001b[0m         \u001b[38;5;129;01mor\u001b[39;00m _global_backward_pre_hooks \u001b[38;5;129;01mor\u001b[39;00m _global_backward_hooks\n\u001b[0;32m   1761\u001b[0m         \u001b[38;5;129;01mor\u001b[39;00m _global_forward_hooks \u001b[38;5;129;01mor\u001b[39;00m _global_forward_pre_hooks):\n\u001b[1;32m-> 1762\u001b[0m     \u001b[38;5;28;01mreturn\u001b[39;00m forward_call(\u001b[38;5;241m*\u001b[39margs, \u001b[38;5;241m*\u001b[39m\u001b[38;5;241m*\u001b[39mkwargs)\n\u001b[0;32m   1764\u001b[0m result \u001b[38;5;241m=\u001b[39m \u001b[38;5;28;01mNone\u001b[39;00m\n\u001b[0;32m   1765\u001b[0m called_always_called_hooks \u001b[38;5;241m=\u001b[39m \u001b[38;5;28mset\u001b[39m()\n",
      "File \u001b[1;32mc:\\Users\\rezki\\anaconda3\\envs\\local_rag_gemma_env\\lib\\site-packages\\sentence_transformers\\models\\Transformer.py:442\u001b[0m, in \u001b[0;36mTransformer.forward\u001b[1;34m(self, features, **kwargs)\u001b[0m\n\u001b[0;32m    435\u001b[0m \u001b[38;5;250m\u001b[39m\u001b[38;5;124;03m\"\"\"Returns token_embeddings, cls_token\"\"\"\u001b[39;00m\n\u001b[0;32m    436\u001b[0m trans_features \u001b[38;5;241m=\u001b[39m {\n\u001b[0;32m    437\u001b[0m     key: value\n\u001b[0;32m    438\u001b[0m     \u001b[38;5;28;01mfor\u001b[39;00m key, value \u001b[38;5;129;01min\u001b[39;00m features\u001b[38;5;241m.\u001b[39mitems()\n\u001b[0;32m    439\u001b[0m     \u001b[38;5;28;01mif\u001b[39;00m key \u001b[38;5;129;01min\u001b[39;00m [\u001b[38;5;124m\"\u001b[39m\u001b[38;5;124minput_ids\u001b[39m\u001b[38;5;124m\"\u001b[39m, \u001b[38;5;124m\"\u001b[39m\u001b[38;5;124mattention_mask\u001b[39m\u001b[38;5;124m\"\u001b[39m, \u001b[38;5;124m\"\u001b[39m\u001b[38;5;124mtoken_type_ids\u001b[39m\u001b[38;5;124m\"\u001b[39m, \u001b[38;5;124m\"\u001b[39m\u001b[38;5;124minputs_embeds\u001b[39m\u001b[38;5;124m\"\u001b[39m]\n\u001b[0;32m    440\u001b[0m }\n\u001b[1;32m--> 442\u001b[0m outputs \u001b[38;5;241m=\u001b[39m \u001b[38;5;28mself\u001b[39m\u001b[38;5;241m.\u001b[39mauto_model(\u001b[38;5;241m*\u001b[39m\u001b[38;5;241m*\u001b[39mtrans_features, \u001b[38;5;241m*\u001b[39m\u001b[38;5;241m*\u001b[39mkwargs, return_dict\u001b[38;5;241m=\u001b[39m\u001b[38;5;28;01mTrue\u001b[39;00m)\n\u001b[0;32m    443\u001b[0m token_embeddings \u001b[38;5;241m=\u001b[39m outputs[\u001b[38;5;241m0\u001b[39m]\n\u001b[0;32m    444\u001b[0m features[\u001b[38;5;124m\"\u001b[39m\u001b[38;5;124mtoken_embeddings\u001b[39m\u001b[38;5;124m\"\u001b[39m] \u001b[38;5;241m=\u001b[39m token_embeddings\n",
      "File \u001b[1;32mc:\\Users\\rezki\\anaconda3\\envs\\local_rag_gemma_env\\lib\\site-packages\\torch\\nn\\modules\\module.py:1751\u001b[0m, in \u001b[0;36mModule._wrapped_call_impl\u001b[1;34m(self, *args, **kwargs)\u001b[0m\n\u001b[0;32m   1749\u001b[0m     \u001b[38;5;28;01mreturn\u001b[39;00m \u001b[38;5;28mself\u001b[39m\u001b[38;5;241m.\u001b[39m_compiled_call_impl(\u001b[38;5;241m*\u001b[39margs, \u001b[38;5;241m*\u001b[39m\u001b[38;5;241m*\u001b[39mkwargs)  \u001b[38;5;66;03m# type: ignore[misc]\u001b[39;00m\n\u001b[0;32m   1750\u001b[0m \u001b[38;5;28;01melse\u001b[39;00m:\n\u001b[1;32m-> 1751\u001b[0m     \u001b[38;5;28;01mreturn\u001b[39;00m \u001b[38;5;28mself\u001b[39m\u001b[38;5;241m.\u001b[39m_call_impl(\u001b[38;5;241m*\u001b[39margs, \u001b[38;5;241m*\u001b[39m\u001b[38;5;241m*\u001b[39mkwargs)\n",
      "File \u001b[1;32mc:\\Users\\rezki\\anaconda3\\envs\\local_rag_gemma_env\\lib\\site-packages\\torch\\nn\\modules\\module.py:1762\u001b[0m, in \u001b[0;36mModule._call_impl\u001b[1;34m(self, *args, **kwargs)\u001b[0m\n\u001b[0;32m   1757\u001b[0m \u001b[38;5;66;03m# If we don't have any hooks, we want to skip the rest of the logic in\u001b[39;00m\n\u001b[0;32m   1758\u001b[0m \u001b[38;5;66;03m# this function, and just call forward.\u001b[39;00m\n\u001b[0;32m   1759\u001b[0m \u001b[38;5;28;01mif\u001b[39;00m \u001b[38;5;129;01mnot\u001b[39;00m (\u001b[38;5;28mself\u001b[39m\u001b[38;5;241m.\u001b[39m_backward_hooks \u001b[38;5;129;01mor\u001b[39;00m \u001b[38;5;28mself\u001b[39m\u001b[38;5;241m.\u001b[39m_backward_pre_hooks \u001b[38;5;129;01mor\u001b[39;00m \u001b[38;5;28mself\u001b[39m\u001b[38;5;241m.\u001b[39m_forward_hooks \u001b[38;5;129;01mor\u001b[39;00m \u001b[38;5;28mself\u001b[39m\u001b[38;5;241m.\u001b[39m_forward_pre_hooks\n\u001b[0;32m   1760\u001b[0m         \u001b[38;5;129;01mor\u001b[39;00m _global_backward_pre_hooks \u001b[38;5;129;01mor\u001b[39;00m _global_backward_hooks\n\u001b[0;32m   1761\u001b[0m         \u001b[38;5;129;01mor\u001b[39;00m _global_forward_hooks \u001b[38;5;129;01mor\u001b[39;00m _global_forward_pre_hooks):\n\u001b[1;32m-> 1762\u001b[0m     \u001b[38;5;28;01mreturn\u001b[39;00m forward_call(\u001b[38;5;241m*\u001b[39margs, \u001b[38;5;241m*\u001b[39m\u001b[38;5;241m*\u001b[39mkwargs)\n\u001b[0;32m   1764\u001b[0m result \u001b[38;5;241m=\u001b[39m \u001b[38;5;28;01mNone\u001b[39;00m\n\u001b[0;32m   1765\u001b[0m called_always_called_hooks \u001b[38;5;241m=\u001b[39m \u001b[38;5;28mset\u001b[39m()\n",
      "File \u001b[1;32mc:\\Users\\rezki\\anaconda3\\envs\\local_rag_gemma_env\\lib\\site-packages\\transformers\\models\\mpnet\\modeling_mpnet.py:546\u001b[0m, in \u001b[0;36mMPNetModel.forward\u001b[1;34m(self, input_ids, attention_mask, position_ids, head_mask, inputs_embeds, output_attentions, output_hidden_states, return_dict, **kwargs)\u001b[0m\n\u001b[0;32m    544\u001b[0m head_mask \u001b[38;5;241m=\u001b[39m \u001b[38;5;28mself\u001b[39m\u001b[38;5;241m.\u001b[39mget_head_mask(head_mask, \u001b[38;5;28mself\u001b[39m\u001b[38;5;241m.\u001b[39mconfig\u001b[38;5;241m.\u001b[39mnum_hidden_layers)\n\u001b[0;32m    545\u001b[0m embedding_output \u001b[38;5;241m=\u001b[39m \u001b[38;5;28mself\u001b[39m\u001b[38;5;241m.\u001b[39membeddings(input_ids\u001b[38;5;241m=\u001b[39minput_ids, position_ids\u001b[38;5;241m=\u001b[39mposition_ids, inputs_embeds\u001b[38;5;241m=\u001b[39minputs_embeds)\n\u001b[1;32m--> 546\u001b[0m encoder_outputs \u001b[38;5;241m=\u001b[39m \u001b[38;5;28;43mself\u001b[39;49m\u001b[38;5;241;43m.\u001b[39;49m\u001b[43mencoder\u001b[49m\u001b[43m(\u001b[49m\n\u001b[0;32m    547\u001b[0m \u001b[43m    \u001b[49m\u001b[43membedding_output\u001b[49m\u001b[43m,\u001b[49m\n\u001b[0;32m    548\u001b[0m \u001b[43m    \u001b[49m\u001b[43mattention_mask\u001b[49m\u001b[38;5;241;43m=\u001b[39;49m\u001b[43mextended_attention_mask\u001b[49m\u001b[43m,\u001b[49m\n\u001b[0;32m    549\u001b[0m \u001b[43m    \u001b[49m\u001b[43mhead_mask\u001b[49m\u001b[38;5;241;43m=\u001b[39;49m\u001b[43mhead_mask\u001b[49m\u001b[43m,\u001b[49m\n\u001b[0;32m    550\u001b[0m \u001b[43m    \u001b[49m\u001b[43moutput_attentions\u001b[49m\u001b[38;5;241;43m=\u001b[39;49m\u001b[43moutput_attentions\u001b[49m\u001b[43m,\u001b[49m\n\u001b[0;32m    551\u001b[0m \u001b[43m    \u001b[49m\u001b[43moutput_hidden_states\u001b[49m\u001b[38;5;241;43m=\u001b[39;49m\u001b[43moutput_hidden_states\u001b[49m\u001b[43m,\u001b[49m\n\u001b[0;32m    552\u001b[0m \u001b[43m    \u001b[49m\u001b[43mreturn_dict\u001b[49m\u001b[38;5;241;43m=\u001b[39;49m\u001b[43mreturn_dict\u001b[49m\u001b[43m,\u001b[49m\n\u001b[0;32m    553\u001b[0m \u001b[43m\u001b[49m\u001b[43m)\u001b[49m\n\u001b[0;32m    554\u001b[0m sequence_output \u001b[38;5;241m=\u001b[39m encoder_outputs[\u001b[38;5;241m0\u001b[39m]\n\u001b[0;32m    555\u001b[0m pooled_output \u001b[38;5;241m=\u001b[39m \u001b[38;5;28mself\u001b[39m\u001b[38;5;241m.\u001b[39mpooler(sequence_output) \u001b[38;5;28;01mif\u001b[39;00m \u001b[38;5;28mself\u001b[39m\u001b[38;5;241m.\u001b[39mpooler \u001b[38;5;129;01mis\u001b[39;00m \u001b[38;5;129;01mnot\u001b[39;00m \u001b[38;5;28;01mNone\u001b[39;00m \u001b[38;5;28;01melse\u001b[39;00m \u001b[38;5;28;01mNone\u001b[39;00m\n",
      "File \u001b[1;32mc:\\Users\\rezki\\anaconda3\\envs\\local_rag_gemma_env\\lib\\site-packages\\torch\\nn\\modules\\module.py:1751\u001b[0m, in \u001b[0;36mModule._wrapped_call_impl\u001b[1;34m(self, *args, **kwargs)\u001b[0m\n\u001b[0;32m   1749\u001b[0m     \u001b[38;5;28;01mreturn\u001b[39;00m \u001b[38;5;28mself\u001b[39m\u001b[38;5;241m.\u001b[39m_compiled_call_impl(\u001b[38;5;241m*\u001b[39margs, \u001b[38;5;241m*\u001b[39m\u001b[38;5;241m*\u001b[39mkwargs)  \u001b[38;5;66;03m# type: ignore[misc]\u001b[39;00m\n\u001b[0;32m   1750\u001b[0m \u001b[38;5;28;01melse\u001b[39;00m:\n\u001b[1;32m-> 1751\u001b[0m     \u001b[38;5;28;01mreturn\u001b[39;00m \u001b[38;5;28mself\u001b[39m\u001b[38;5;241m.\u001b[39m_call_impl(\u001b[38;5;241m*\u001b[39margs, \u001b[38;5;241m*\u001b[39m\u001b[38;5;241m*\u001b[39mkwargs)\n",
      "File \u001b[1;32mc:\\Users\\rezki\\anaconda3\\envs\\local_rag_gemma_env\\lib\\site-packages\\torch\\nn\\modules\\module.py:1762\u001b[0m, in \u001b[0;36mModule._call_impl\u001b[1;34m(self, *args, **kwargs)\u001b[0m\n\u001b[0;32m   1757\u001b[0m \u001b[38;5;66;03m# If we don't have any hooks, we want to skip the rest of the logic in\u001b[39;00m\n\u001b[0;32m   1758\u001b[0m \u001b[38;5;66;03m# this function, and just call forward.\u001b[39;00m\n\u001b[0;32m   1759\u001b[0m \u001b[38;5;28;01mif\u001b[39;00m \u001b[38;5;129;01mnot\u001b[39;00m (\u001b[38;5;28mself\u001b[39m\u001b[38;5;241m.\u001b[39m_backward_hooks \u001b[38;5;129;01mor\u001b[39;00m \u001b[38;5;28mself\u001b[39m\u001b[38;5;241m.\u001b[39m_backward_pre_hooks \u001b[38;5;129;01mor\u001b[39;00m \u001b[38;5;28mself\u001b[39m\u001b[38;5;241m.\u001b[39m_forward_hooks \u001b[38;5;129;01mor\u001b[39;00m \u001b[38;5;28mself\u001b[39m\u001b[38;5;241m.\u001b[39m_forward_pre_hooks\n\u001b[0;32m   1760\u001b[0m         \u001b[38;5;129;01mor\u001b[39;00m _global_backward_pre_hooks \u001b[38;5;129;01mor\u001b[39;00m _global_backward_hooks\n\u001b[0;32m   1761\u001b[0m         \u001b[38;5;129;01mor\u001b[39;00m _global_forward_hooks \u001b[38;5;129;01mor\u001b[39;00m _global_forward_pre_hooks):\n\u001b[1;32m-> 1762\u001b[0m     \u001b[38;5;28;01mreturn\u001b[39;00m forward_call(\u001b[38;5;241m*\u001b[39margs, \u001b[38;5;241m*\u001b[39m\u001b[38;5;241m*\u001b[39mkwargs)\n\u001b[0;32m   1764\u001b[0m result \u001b[38;5;241m=\u001b[39m \u001b[38;5;28;01mNone\u001b[39;00m\n\u001b[0;32m   1765\u001b[0m called_always_called_hooks \u001b[38;5;241m=\u001b[39m \u001b[38;5;28mset\u001b[39m()\n",
      "File \u001b[1;32mc:\\Users\\rezki\\anaconda3\\envs\\local_rag_gemma_env\\lib\\site-packages\\transformers\\models\\mpnet\\modeling_mpnet.py:329\u001b[0m, in \u001b[0;36mMPNetEncoder.forward\u001b[1;34m(self, hidden_states, attention_mask, head_mask, output_attentions, output_hidden_states, return_dict, **kwargs)\u001b[0m\n\u001b[0;32m    319\u001b[0m \u001b[38;5;28;01mdef\u001b[39;00m\u001b[38;5;250m \u001b[39m\u001b[38;5;21mforward\u001b[39m(\n\u001b[0;32m    320\u001b[0m     \u001b[38;5;28mself\u001b[39m,\n\u001b[0;32m    321\u001b[0m     hidden_states: torch\u001b[38;5;241m.\u001b[39mTensor,\n\u001b[1;32m   (...)\u001b[0m\n\u001b[0;32m    327\u001b[0m     \u001b[38;5;241m*\u001b[39m\u001b[38;5;241m*\u001b[39mkwargs,\n\u001b[0;32m    328\u001b[0m ):\n\u001b[1;32m--> 329\u001b[0m     position_bias \u001b[38;5;241m=\u001b[39m \u001b[38;5;28;43mself\u001b[39;49m\u001b[38;5;241;43m.\u001b[39;49m\u001b[43mcompute_position_bias\u001b[49m\u001b[43m(\u001b[49m\u001b[43mhidden_states\u001b[49m\u001b[43m)\u001b[49m\n\u001b[0;32m    330\u001b[0m     all_hidden_states \u001b[38;5;241m=\u001b[39m () \u001b[38;5;28;01mif\u001b[39;00m output_hidden_states \u001b[38;5;28;01melse\u001b[39;00m \u001b[38;5;28;01mNone\u001b[39;00m\n\u001b[0;32m    331\u001b[0m     all_attentions \u001b[38;5;241m=\u001b[39m () \u001b[38;5;28;01mif\u001b[39;00m output_attentions \u001b[38;5;28;01melse\u001b[39;00m \u001b[38;5;28;01mNone\u001b[39;00m\n",
      "File \u001b[1;32mc:\\Users\\rezki\\anaconda3\\envs\\local_rag_gemma_env\\lib\\site-packages\\transformers\\models\\mpnet\\modeling_mpnet.py:376\u001b[0m, in \u001b[0;36mMPNetEncoder.compute_position_bias\u001b[1;34m(self, x, position_ids, num_buckets)\u001b[0m\n\u001b[0;32m    374\u001b[0m values \u001b[38;5;241m=\u001b[39m \u001b[38;5;28mself\u001b[39m\u001b[38;5;241m.\u001b[39mrelative_attention_bias(rp_bucket)\n\u001b[0;32m    375\u001b[0m values \u001b[38;5;241m=\u001b[39m values\u001b[38;5;241m.\u001b[39mpermute([\u001b[38;5;241m2\u001b[39m, \u001b[38;5;241m0\u001b[39m, \u001b[38;5;241m1\u001b[39m])\u001b[38;5;241m.\u001b[39munsqueeze(\u001b[38;5;241m0\u001b[39m)\n\u001b[1;32m--> 376\u001b[0m values \u001b[38;5;241m=\u001b[39m \u001b[43mvalues\u001b[49m\u001b[38;5;241;43m.\u001b[39;49m\u001b[43mexpand\u001b[49m\u001b[43m(\u001b[49m\u001b[43m(\u001b[49m\u001b[43mbsz\u001b[49m\u001b[43m,\u001b[49m\u001b[43m \u001b[49m\u001b[38;5;241;43m-\u001b[39;49m\u001b[38;5;241;43m1\u001b[39;49m\u001b[43m,\u001b[49m\u001b[43m \u001b[49m\u001b[43mqlen\u001b[49m\u001b[43m,\u001b[49m\u001b[43m \u001b[49m\u001b[43mklen\u001b[49m\u001b[43m)\u001b[49m\u001b[43m)\u001b[49m\u001b[38;5;241;43m.\u001b[39;49m\u001b[43mcontiguous\u001b[49m\u001b[43m(\u001b[49m\u001b[43m)\u001b[49m\n\u001b[0;32m    377\u001b[0m \u001b[38;5;28;01mreturn\u001b[39;00m values\n",
      "\u001b[1;31mKeyboardInterrupt\u001b[0m: "
     ]
    }
   ],
   "source": [
    "%%time\n",
    "\n",
    "# Uncomment to see how long it takes to create embeddings on CPU\n",
    "# Make sure the model is on the CPU\n",
    "embedding_model.to(\"cpu\")\n",
    "\n",
    "# # Embed each chunk one by one\n",
    "for item in tqdm(pages_and_chunks_over_min_token_len):\n",
    "    item[\"embedding\"] = embedding_model.encode(item[\"sentence_chunk\"])"
   ]
  },
  {
   "cell_type": "code",
   "execution_count": 41,
   "id": "0505ea39",
   "metadata": {},
   "outputs": [],
   "source": [
    "# Turn text chunks into a single list\n",
    "text_chunks = [item[\"sentence_chunk\"] for item in pages_and_chunks_over_min_token_len]"
   ]
  },
  {
   "cell_type": "code",
   "execution_count": null,
   "id": "375ed7c6",
   "metadata": {},
   "outputs": [],
   "source": [
    "%%time\n",
    "\n",
    "# Embed all texts in batches\n",
    "text_chunk_embeddings = embedding_model.encode(text_chunks,\n",
    "                                               batch_size=32, # you can use different batch sizes here for speed/performance, I found 32 works well for this use case\n",
    "                                               convert_to_tensor=True) # optional to return embeddings as tensor instead of array\n",
    "\n",
    "text_chunk_embeddings"
   ]
  },
  {
   "cell_type": "code",
   "execution_count": 51,
   "id": "55a7f459",
   "metadata": {},
   "outputs": [],
   "source": [
    "# Save embeddings to file\n",
    "text_chunks_and_embeddings_df = pd.DataFrame(pages_and_chunks_over_min_token_len)\n",
    "embeddings_df_save_path = \"information_file/text_chunks_and_embeddings_df.csv\"\n",
    "text_chunks_and_embeddings_df.to_csv(embeddings_df_save_path, index=False)"
   ]
  },
  {
   "cell_type": "code",
   "execution_count": 52,
   "id": "48ce7e3a",
   "metadata": {},
   "outputs": [
    {
     "data": {
      "text/html": [
       "<div>\n",
       "<style scoped>\n",
       "    .dataframe tbody tr th:only-of-type {\n",
       "        vertical-align: middle;\n",
       "    }\n",
       "\n",
       "    .dataframe tbody tr th {\n",
       "        vertical-align: top;\n",
       "    }\n",
       "\n",
       "    .dataframe thead th {\n",
       "        text-align: right;\n",
       "    }\n",
       "</style>\n",
       "<table border=\"1\" class=\"dataframe\">\n",
       "  <thead>\n",
       "    <tr style=\"text-align: right;\">\n",
       "      <th></th>\n",
       "      <th>page_number</th>\n",
       "      <th>sentence_chunk</th>\n",
       "      <th>chunk_char_count</th>\n",
       "      <th>chunk_word_count</th>\n",
       "      <th>chunk_token_count</th>\n",
       "      <th>embedding</th>\n",
       "    </tr>\n",
       "  </thead>\n",
       "  <tbody>\n",
       "    <tr>\n",
       "      <th>0</th>\n",
       "      <td>-39</td>\n",
       "      <td>Human Nutrition: 2020 Edition UNIVERSITY OF HA...</td>\n",
       "      <td>308</td>\n",
       "      <td>42</td>\n",
       "      <td>77.00</td>\n",
       "      <td>[ 6.74242377e-02  9.02281031e-02 -5.09548141e-...</td>\n",
       "    </tr>\n",
       "    <tr>\n",
       "      <th>1</th>\n",
       "      <td>-38</td>\n",
       "      <td>Human Nutrition: 2020 Edition by University of...</td>\n",
       "      <td>210</td>\n",
       "      <td>30</td>\n",
       "      <td>52.50</td>\n",
       "      <td>[ 5.52156605e-02  5.92139103e-02 -1.66167691e-...</td>\n",
       "    </tr>\n",
       "    <tr>\n",
       "      <th>2</th>\n",
       "      <td>-37</td>\n",
       "      <td>Contents Preface University of Hawai‘i at Māno...</td>\n",
       "      <td>766</td>\n",
       "      <td>114</td>\n",
       "      <td>191.50</td>\n",
       "      <td>[ 2.79801618e-02  3.39813679e-02 -2.06426736e-...</td>\n",
       "    </tr>\n",
       "    <tr>\n",
       "      <th>3</th>\n",
       "      <td>-36</td>\n",
       "      <td>Lifestyles and Nutrition University of Hawai‘i...</td>\n",
       "      <td>941</td>\n",
       "      <td>142</td>\n",
       "      <td>235.25</td>\n",
       "      <td>[ 6.82566911e-02  3.81274484e-02 -8.46856367e-...</td>\n",
       "    </tr>\n",
       "    <tr>\n",
       "      <th>4</th>\n",
       "      <td>-35</td>\n",
       "      <td>The Cardiovascular System University of Hawai‘...</td>\n",
       "      <td>998</td>\n",
       "      <td>152</td>\n",
       "      <td>249.50</td>\n",
       "      <td>[ 3.30264606e-02 -8.49767122e-03  9.57158394e-...</td>\n",
       "    </tr>\n",
       "  </tbody>\n",
       "</table>\n",
       "</div>"
      ],
      "text/plain": [
       "   page_number                                     sentence_chunk  \\\n",
       "0          -39  Human Nutrition: 2020 Edition UNIVERSITY OF HA...   \n",
       "1          -38  Human Nutrition: 2020 Edition by University of...   \n",
       "2          -37  Contents Preface University of Hawai‘i at Māno...   \n",
       "3          -36  Lifestyles and Nutrition University of Hawai‘i...   \n",
       "4          -35  The Cardiovascular System University of Hawai‘...   \n",
       "\n",
       "   chunk_char_count  chunk_word_count  chunk_token_count  \\\n",
       "0               308                42              77.00   \n",
       "1               210                30              52.50   \n",
       "2               766               114             191.50   \n",
       "3               941               142             235.25   \n",
       "4               998               152             249.50   \n",
       "\n",
       "                                           embedding  \n",
       "0  [ 6.74242377e-02  9.02281031e-02 -5.09548141e-...  \n",
       "1  [ 5.52156605e-02  5.92139103e-02 -1.66167691e-...  \n",
       "2  [ 2.79801618e-02  3.39813679e-02 -2.06426736e-...  \n",
       "3  [ 6.82566911e-02  3.81274484e-02 -8.46856367e-...  \n",
       "4  [ 3.30264606e-02 -8.49767122e-03  9.57158394e-...  "
      ]
     },
     "execution_count": 52,
     "metadata": {},
     "output_type": "execute_result"
    }
   ],
   "source": [
    "# Import saved file and view\n",
    "text_chunks_and_embedding_df_load = pd.read_csv(embeddings_df_save_path)\n",
    "text_chunks_and_embedding_df_load.head()"
   ]
  },
  {
   "cell_type": "markdown",
   "id": "6f4a9027",
   "metadata": {},
   "source": [
    "## 4. RAG System (use vector search)\n"
   ]
  },
  {
   "cell_type": "code",
   "execution_count": 54,
   "id": "3c4aaa18",
   "metadata": {},
   "outputs": [
    {
     "data": {
      "text/plain": [
       "torch.Size([1680, 768])"
      ]
     },
     "execution_count": 54,
     "metadata": {},
     "output_type": "execute_result"
    }
   ],
   "source": [
    "import random\n",
    "\n",
    "import torch\n",
    "import numpy as np\n",
    "import pandas as pd\n",
    "\n",
    "device = \"cuda\" if torch.cuda.is_available() else \"cpu\"\n",
    "\n",
    "# Import texts and embedding df\n",
    "text_chunks_and_embedding_df = pd.read_csv(\"text_chunks_and_embeddings_df.csv\")\n",
    "\n",
    "# Convert embedding column back to np.array (it got converted to string when it got saved to CSV)\n",
    "text_chunks_and_embedding_df[\"embedding\"] = text_chunks_and_embedding_df[\n",
    "    \"embedding\"\n",
    "].apply(lambda x: np.fromstring(x.strip(\"[]\"), sep=\" \"))\n",
    "\n",
    "# Convert texts and embedding df to list of dicts\n",
    "pages_and_chunks = text_chunks_and_embedding_df.to_dict(orient=\"records\")\n",
    "\n",
    "# Convert embeddings to torch tensor and send to device (note: NumPy arrays are float64, torch tensors are float32 by default)\n",
    "embeddings = torch.tensor(\n",
    "    np.array(text_chunks_and_embedding_df[\"embedding\"].tolist()), dtype=torch.float32\n",
    ").to(device)\n",
    "embeddings.shape"
   ]
  },
  {
   "cell_type": "code",
   "execution_count": 107,
   "id": "4f2aaaf6",
   "metadata": {},
   "outputs": [
    {
     "name": "stdout",
     "output_type": "stream",
     "text": [
      "Query: macronutrients functions\n",
      "Time take to get scores on 1680 embeddings: 0.00069 seconds.\n"
     ]
    },
    {
     "data": {
      "text/plain": [
       "torch.return_types.topk(\n",
       "values=tensor([0.6926, 0.6738, 0.6646, 0.6536, 0.6473]),\n",
       "indices=tensor([42, 47, 41, 51, 46]))"
      ]
     },
     "execution_count": 107,
     "metadata": {},
     "output_type": "execute_result"
    }
   ],
   "source": [
    "# 1. Define the query\n",
    "# Note: This could be anything. But since we're working with a nutrition textbook, we'll stick with nutrition-based queries.\n",
    "query = \"macronutrients functions\"\n",
    "print(f\"Query: {query}\")\n",
    "\n",
    "# 2. Embed the query to the same numerical space as the text examples\n",
    "# Note: It's important to embed your query with the same model you embedded your examples with.\n",
    "query_embedding = embedding_model.encode(query, convert_to_tensor=True)\n",
    "\n",
    "# 3. Get similarity scores with the dot product (we'll time this for fun)\n",
    "from time import perf_counter as timer\n",
    "\n",
    "start_time = timer()\n",
    "dot_scores = util.dot_score(a=query_embedding, b=embeddings)[0]\n",
    "end_time = timer()\n",
    "\n",
    "print(\n",
    "    f\"Time take to get scores on {len(embeddings)} embeddings: {end_time-start_time:.5f} seconds.\"\n",
    ")\n",
    "\n",
    "# 4. Get the top-k results (we'll keep this to 5)\n",
    "top_results_dot_product = torch.topk(dot_scores, k=5)\n",
    "top_results_dot_product"
   ]
  },
  {
   "cell_type": "code",
   "execution_count": null,
   "id": "b63d2743",
   "metadata": {},
   "outputs": [
    {
     "name": "stdout",
     "output_type": "stream",
     "text": [
      "Query: 'macronutrients functions'\n",
      "\n",
      "Results:\n",
      "Score: 0.6926\n",
      "Text:\n",
      "Macronutrients Nutrients that are needed in large amounts are called\n",
      "macronutrients. There are three classes of macronutrients: carbohydrates,\n",
      "lipids, and proteins. These can be metabolically processed into cellular energy.\n",
      "The energy from macronutrients comes from their chemical bonds. This chemical\n",
      "energy is converted into cellular energy that is then utilized to perform work,\n",
      "allowing our bodies to conduct their basic functions. A unit of measurement of\n",
      "food energy is the calorie. On nutrition food labels the amount given for\n",
      "“calories” is actually equivalent to each calorie multiplied by one thousand. A\n",
      "kilocalorie (one thousand calories, denoted with a small “c”) is synonymous with\n",
      "the “Calorie” (with a capital “C”) on nutrition food labels. Water is also a\n",
      "macronutrient in the sense that you require a large amount of it, but unlike the\n",
      "other macronutrients, it does not yield calories. Carbohydrates Carbohydrates\n",
      "are molecules composed of carbon, hydrogen, and oxygen.\n",
      "Page number: 5\n",
      "\n",
      "\n",
      "Score: 0.6738\n",
      "Text:\n",
      "Water There is one other nutrient that we must have in large quantities: water.\n",
      "Water does not contain carbon, but is composed of two hydrogens and one oxygen\n",
      "per molecule of water. More than 60 percent of your total body weight is water.\n",
      "Without it, nothing could be transported in or out of the body, chemical\n",
      "reactions would not occur, organs would not be cushioned, and body temperature\n",
      "would fluctuate widely. On average, an adult consumes just over two liters of\n",
      "water per day from food and drink combined. Since water is so critical for\n",
      "life’s basic processes, the amount of water input and output is supremely\n",
      "important, a topic we will explore in detail in Chapter 4. Micronutrients\n",
      "Micronutrients are nutrients required by the body in lesser amounts, but are\n",
      "still essential for carrying out bodily functions. Micronutrients include all\n",
      "the essential minerals and vitamins. There are sixteen essential minerals and\n",
      "thirteen vitamins (See Table 1.1 “Minerals and Their Major Functions” and Table\n",
      "1.2 “Vitamins and Their Major Functions” for a complete list and their major\n",
      "functions). In contrast to carbohydrates, lipids, and proteins, micronutrients\n",
      "are not sources of energy (calories), but they assist in the process as\n",
      "cofactors or components of enzymes (i.e., coenzymes).\n",
      "Page number: 8\n",
      "\n",
      "\n",
      "Score: 0.6646\n",
      "Text:\n",
      "Learning Objectives By the end of this chapter, you will be able to: • Describe\n",
      "basic concepts in nutrition • Describe factors that affect your nutritional\n",
      "needs • Describe the importance of research and scientific methods to\n",
      "understanding nutrition What are Nutrients? The foods we eat contain nutrients.\n",
      "Nutrients are substances required by the body to perform its basic functions.\n",
      "Nutrients must be obtained from our diet, since the human body does not\n",
      "synthesize or produce them. Nutrients have one or more of three basic functions:\n",
      "they provide energy, contribute to body structure, and/or regulate chemical\n",
      "processes in the body. These basic functions allow us to detect and respond to\n",
      "environmental surroundings, move, excrete wastes, respire (breathe), grow, and\n",
      "reproduce. There are six classes of nutrients required for the body to function\n",
      "and maintain overall health. These are carbohydrates, lipids, proteins, water,\n",
      "vitamins, and minerals. Foods also contain non-nutrients that may be harmful\n",
      "(such as natural toxins common in plant foods and additives like some dyes and\n",
      "preservatives) or beneficial (such as antioxidants). 4 | Introduction\n",
      "Page number: 4\n",
      "\n",
      "\n",
      "Score: 0.6536\n",
      "Text:\n",
      "Vitamins Major Functions Water-soluble Thiamin (B1) Coenzyme, energy metabolism\n",
      "assistance Riboflavin (B2 ) Coenzyme, energy metabolism assistance Niacin (B3)\n",
      "Coenzyme, energy metabolism assistance Pantothenic acid (B5) Coenzyme, energy\n",
      "metabolism assistance Pyridoxine (B6) Coenzyme, amino acid synthesis assistance\n",
      "Biotin (B7) Coenzyme, amino acid and fatty acid metabolism Folate (B9) Coenzyme,\n",
      "essential for growth Cobalamin (B12) Coenzyme, red blood cell synthesis C\n",
      "(ascorbic acid) Collagen synthesis, antioxidant Fat-soluble A Vision,\n",
      "reproduction, immune system function D Bone and teeth health maintenance, immune\n",
      "system function E Antioxidant, cell membrane protection K Bone and teeth health\n",
      "maintenance, blood clotting Vitamin deficiencies can cause severe health\n",
      "problems and even death. For example, a deficiency in niacin causes a disease\n",
      "called pellagra, which was common in the early twentieth century in some parts\n",
      "of America. The common signs and symptoms of pellagra are known as the\n",
      "“4D’s—diarrhea, dermatitis, dementia, and death.” Until scientists found out\n",
      "that better diets relieved the signs and symptoms of pellagra, many people with\n",
      "the disease ended up hospitalized in insane asylums awaiting death. Other\n",
      "vitamins were also found to prevent certain disorders and diseases such as\n",
      "scurvy (vitamin C), night blindness vitamin A, and rickets (vitamin D). Table\n",
      "1.3 Functions of Nutrients Introduction | 11\n",
      "Page number: 11\n",
      "\n",
      "\n",
      "Score: 0.6473\n",
      "Text:\n",
      "Figure 1.1 The Macronutrie nts: Carbohydrat es, Lipids, Protein, and Water\n",
      "Proteins Proteins are macromolecules composed of chains of subunits called amino\n",
      "acids. Amino acids are simple subunits composed of carbon, oxygen, hydrogen, and\n",
      "nitrogen. Food sources of proteins include meats, dairy products, seafood, and a\n",
      "variety of different plant- based foods, most notably soy. The word protein\n",
      "comes from a Greek word meaning “of primary importance,” which is an apt\n",
      "description of these macronutrients; they are also known colloquially as the\n",
      "“workhorses” of life. Proteins provide four kilocalories of energy per gram;\n",
      "however providing energy is not protein’s most important function. Proteins\n",
      "provide structure to bones, muscles and skin, and play a role in conducting most\n",
      "of the chemical reactions that take place in the body. Scientists estimate that\n",
      "greater than one-hundred thousand different proteins exist within the human\n",
      "body. The genetic codes in DNA are basically protein recipes that determine the\n",
      "order in which 20 different amino acids are bound together to make thousands of\n",
      "specific proteins. Figure 1.1 The Macronutrients: Carbohydrates, Lipids,\n",
      "Protein, and Water Introduction | 7\n",
      "Page number: 7\n",
      "\n",
      "\n"
     ]
    }
   ],
   "source": [
    "# Define helper function to print wrapped text\n",
    "import textwrap\n",
    "def print_wrapped(text, wrap_length=80):\n",
    "    wrapped_text = textwrap.fill(text, wrap_length)\n",
    "    print(wrapped_text)\n",
    "\n",
    "print(f\"Query: '{query}'\\n\")\n",
    "print(\"Results:\")\n",
    "# Loop through zipped together scores and indicies from torch.topk\n",
    "for score, idx in zip(top_results_dot_product[0], top_results_dot_product[1]):\n",
    "    print(f\"Score: {score:.4f}\")\n",
    "    # Print relevant sentence chunk (since the scores are in descending order, the most relevant chunk will be first)\n",
    "    print(\"Text:\")\n",
    "    print_wrapped(pages_and_chunks[idx][\"sentence_chunk\"])\n",
    "    # Print the page number too so we can reference the textbook further (and check the results)\n",
    "    print(f\"Page number: {pages_and_chunks[idx]['page_number']}\")\n",
    "    print(\"\\n\")"
   ]
  },
  {
   "cell_type": "code",
   "execution_count": 106,
   "id": "bc9a6f62",
   "metadata": {},
   "outputs": [
    {
     "name": "stdout",
     "output_type": "stream",
     "text": [
      "Query: macronutrients functions\n",
      "Time take to get scores on 1680 embeddings: 0.00177 seconds.\n"
     ]
    },
    {
     "data": {
      "text/plain": [
       "torch.return_types.topk(\n",
       "values=tensor([0.6926, 0.6738, 0.6646, 0.6536, 0.6473]),\n",
       "indices=tensor([42, 47, 41, 51, 46]))"
      ]
     },
     "execution_count": 106,
     "metadata": {},
     "output_type": "execute_result"
    }
   ],
   "source": [
    "# 1. Define the query\n",
    "# Note: This could be anything. But since we're working with a nutrition textbook, we'll stick with nutrition-based queries.\n",
    "query = \"macronutrients functions\"\n",
    "print(f\"Query: {query}\")\n",
    "\n",
    "# 2. Embed the query to the same numerical space as the text examples\n",
    "# Note: It's important to embed your query with the same model you embedded your examples with.\n",
    "query_embedding = embedding_model.encode(query, convert_to_tensor=True)\n",
    "\n",
    "# 3. Get similarity scores with the dot product (we'll time this for fun)\n",
    "from sentence_transformers import util\n",
    "from time import perf_counter as timer\n",
    "\n",
    "start_time = timer()\n",
    "dot_scores = util.dot_score(a=query_embedding, b=embeddings)[0]\n",
    "end_time = timer()\n",
    "\n",
    "print(\n",
    "    f\"Time take to get scores on {len(embeddings)} embeddings: {end_time-start_time:.5f} seconds.\"\n",
    ")\n",
    "\n",
    "# 4. Get the top-k results (we'll keep this to 5)\n",
    "top_results_dot_product = torch.topk(dot_scores, k=5)\n",
    "top_results_dot_product"
   ]
  },
  {
   "cell_type": "code",
   "execution_count": 109,
   "id": "960772c1",
   "metadata": {},
   "outputs": [
    {
     "name": "stdout",
     "output_type": "stream",
     "text": [
      "Query: macronutrients functions\n",
      "Time taken to get cosine similarity scores on 1680 embeddings: 0.00271 seconds.\n",
      "\n",
      "Top 5 most relevant chunks based on cosine similarity:\n",
      "Score: 0.6926 | Index: 42\n",
      "Score: 0.6738 | Index: 47\n",
      "Score: 0.6646 | Index: 41\n",
      "Score: 0.6536 | Index: 51\n",
      "Score: 0.6473 | Index: 46\n"
     ]
    }
   ],
   "source": [
    "import torch\n",
    "from time import perf_counter as timer\n",
    "from sentence_transformers import SentenceTransformer, util\n",
    "\n",
    "# 1. Define the query\n",
    "query = \"macronutrients functions\"\n",
    "print(f\"Query: {query}\")\n",
    "\n",
    "# 2. Embed the query using the same model\n",
    "query_embedding = embedding_model.encode(query, convert_to_tensor=True)\n",
    "\n",
    "# 3. Compute cosine similarity scores (instead of dot product)\n",
    "start_time = timer()\n",
    "cosine_scores = util.cos_sim(query_embedding, embeddings)[0]  # (N,) shape\n",
    "end_time = timer()\n",
    "\n",
    "print(f\"Time taken to get cosine similarity scores on {len(embeddings)} embeddings: {end_time - start_time:.5f} seconds.\")\n",
    "\n",
    "# 4. Get the top-k most similar results\n",
    "top_results_cosine = torch.topk(cosine_scores, k=5)\n",
    "\n",
    "# Optionally print results\n",
    "print(\"\\nTop 5 most relevant chunks based on cosine similarity:\")\n",
    "for score, idx in zip(top_results_cosine[0], top_results_cosine[1]):\n",
    "    print(f\"Score: {score:.4f} | Index: {idx}\")\n"
   ]
  },
  {
   "cell_type": "code",
   "execution_count": 110,
   "id": "568af47b",
   "metadata": {},
   "outputs": [
    {
     "name": "stdout",
     "output_type": "stream",
     "text": [
      "Embeddings shape: torch.Size([168000, 768])\n"
     ]
    }
   ],
   "source": [
    "larger_embeddings = torch.randn(100 * embeddings.shape[0], 768).to(device)\n",
    "print(f\"Embeddings shape: {larger_embeddings.shape}\")"
   ]
  },
  {
   "cell_type": "code",
   "execution_count": 118,
   "id": "47f848ad",
   "metadata": {},
   "outputs": [
    {
     "data": {
      "image/png": "[encoded data removed]",
      "text/plain": [
       "<Figure size 1300x1000 with 1 Axes>"
      ]
     },
     "metadata": {},
     "output_type": "display_data"
    }
   ],
   "source": [
    "import pymupdf\n",
    "# Open PDF and load target page\n",
    "\n",
    "doc = pymupdf.open(pdf_path)\n",
    "page = doc.load_page(5 + 41)  # number of page (our doc starts page numbers on page 41)\n",
    "\n",
    "# Get the image of the page\n",
    "img = page.get_pixmap(dpi=300)\n",
    "\n",
    "# Optional: save the image\n",
    "# img.save(\"output_filename.png\")\n",
    "doc.close()\n",
    "\n",
    "# Convert the Pixmap to a numpy array\n",
    "img_array = np.frombuffer(img.samples_mv, dtype=np.uint8).reshape((img.h, img.w, img.n))\n",
    "\n",
    "# Display the image using Matplotlib\n",
    "import matplotlib.pyplot as plt\n",
    "\n",
    "plt.figure(figsize=(13, 10))\n",
    "plt.imshow(img_array)\n",
    "plt.title(f\"Query: '{query}' | Most relevant page:\")\n",
    "plt.axis(\"off\")  # Turn off axis\n",
    "plt.show()"
   ]
  },
  {
   "cell_type": "code",
   "execution_count": 119,
   "id": "bb6d271c",
   "metadata": {},
   "outputs": [],
   "source": [
    "def retrieve_relevant_resources(\n",
    "    query: str,\n",
    "    embeddings: torch.tensor,\n",
    "    model: SentenceTransformer = embedding_model,\n",
    "    n_resources_to_return: int = 5,\n",
    "    print_time: bool = True,\n",
    "):\n",
    "    \"\"\"\n",
    "    Embeds a query with model and returns top k scores and indices from embeddings.\n",
    "    \"\"\"\n",
    "\n",
    "    # Embed the query\n",
    "    query_embedding = model.encode(query, convert_to_tensor=True)\n",
    "\n",
    "    # Get dot product scores on embeddings\n",
    "    start_time = timer()\n",
    "    dot_scores = util.dot_score(query_embedding, embeddings)[0]\n",
    "    end_time = timer()\n",
    "\n",
    "    if print_time:\n",
    "        print(\n",
    "            f\"[INFO] Time taken to get scores on {len(embeddings)} embeddings: {end_time-start_time:.5f} seconds.\"\n",
    "        )\n",
    "\n",
    "    scores, indices = torch.topk(input=dot_scores, k=n_resources_to_return)\n",
    "\n",
    "    return scores, indices\n",
    "\n",
    "\n",
    "def print_top_results_and_scores(\n",
    "    query: str,\n",
    "    embeddings: torch.tensor,\n",
    "    pages_and_chunks: list[dict] = pages_and_chunks,\n",
    "    n_resources_to_return: int = 5,\n",
    "):\n",
    "    \"\"\"\n",
    "    Takes a query, retrieves most relevant resources and prints them out in descending order.\n",
    "\n",
    "    Note: Requires pages_and_chunks to be formatted in a specific way (see above for reference).\n",
    "    \"\"\"\n",
    "\n",
    "    scores, indices = retrieve_relevant_resources(\n",
    "        query=query, embeddings=embeddings, n_resources_to_return=n_resources_to_return\n",
    "    )\n",
    "\n",
    "    print(f\"Query: {query}\\n\")\n",
    "    print(\"Results:\")\n",
    "    # Loop through zipped together scores and indicies\n",
    "    for score, index in zip(scores, indices):\n",
    "        print(f\"Score: {score:.4f}\")\n",
    "        # Print relevant sentence chunk (since the scores are in descending order, the most relevant chunk will be first)\n",
    "        print_wrapped(pages_and_chunks[index][\"sentence_chunk\"])\n",
    "        # Print the page number too so we can reference the textbook further and check the results\n",
    "        print(f\"Page number: {pages_and_chunks[index]['page_number']}\")\n",
    "        print(\"\\n\")"
   ]
  },
  {
   "cell_type": "code",
   "execution_count": 123,
   "id": "af89d254",
   "metadata": {},
   "outputs": [
    {
     "name": "stdout",
     "output_type": "stream",
     "text": [
      "[INFO] Time taken to get scores on 1680 embeddings: 0.00131 seconds.\n",
      "[INFO] Time taken to get scores on 1680 embeddings: 0.00044 seconds.\n",
      "Query: Vitamin A\n",
      "\n",
      "Results:\n",
      "Score: 0.6103\n",
      "Growth and Development Vitamin A acts similarly to some hormones in that it is\n",
      "able to change the amount of proteins in cells by interacting with DNA. This is\n",
      "the primary way that vitamin A affects growth and development. Vitamin A\n",
      "deficiency in children is linked to growth retardation; however, vitamin A\n",
      "deficiency is often accompanied by protein malnutrition and iron deficiency,\n",
      "thereby confounding the investigation of vitamin A’s specific effects on growth\n",
      "and development. In the fetal stages of life, vitamin A is important for limb,\n",
      "heart, eye, and ear development and in both deficiency and excess, vitamin A\n",
      "causes birth defects. Furthermore, both males and females require vitamin A in\n",
      "the diet to effectively reproduce. Cancer Vitamin A’s role in regulating cell\n",
      "growth and death, especially in tissues that line and cover organs, suggests it\n",
      "may be effective in treating certain cancers of the lung, neck, and liver. It\n",
      "has been shown in some observational studies that vitamin A-deficient\n",
      "populations have a higher risk for some cancers. However, vitamin A supplements\n",
      "have actually been found to increase the risk of lung cancer in people who are\n",
      "at high risk for the disease (i.e., smokers, ex-smokers, workers exposed to\n",
      "asbestos). The Beta-Carotene and Retinol Efficacy Trial (CARET) involving over\n",
      "eighteen thousand participants who were at high risk for lung cancer found that\n",
      "people who took supplements containing very high doses of vitamin A (25,000\n",
      "international units) and beta-carotene had a 28 percent Fat-Soluble Vitamins |\n",
      "525\n",
      "Page number: 525\n",
      "\n",
      "\n",
      "Score: 0.6010\n",
      "The RDA for vitamin A is considered sufficient to support growth and\n",
      "development, reproduction, vision, and immune system function while maintaining\n",
      "adequate stores (good for four months) in the liver. Table 9.1 Dietary Reference\n",
      "Intakes for Vitamin A Age Group RDA Males and Females mcg RAE/ day UL Infants\n",
      "(0–6 months) 400* 600 Infants (7–12 months) 500* 600 Children (1–3 years) 300\n",
      "600 Children (4–8 years) 400 900 Children (9–13 years) 600 1,700 Adolescents\n",
      "(14–18 years) Males: 900 2,800 Adolescents (14–18 years) Females: 700 2,800\n",
      "Adults (> 19 years) Males: 900 3,000 Adults (> 19 years) Females: 700 3,000\n",
      "*denotes Adequate Intake Source: Source: Dietary Supplement Fact Sheet: Vitamin\n",
      "A. National Institutes of Health, Office of Dietary Supplements.\n",
      "http://ods.od.nih.gov/factsheets/VitaminA-QuickFacts/. Updated September 5,\n",
      "2012. Accessed October 7, 2017. Dietary Sources of Vitamin A and Beta-Carotene\n",
      "Preformed vitamin A is found only in foods from animals, with the liver being\n",
      "the richest source because that’s where vitamin A is stored (see Table 9.2\n",
      "“Vitamin A Content of Various Foods”). The dietary sources of carotenoids will\n",
      "be given in the following text. Table 9.2 Vitamin A Content of Various Foods 528\n",
      "| Fat-Soluble Vitamins\n",
      "Page number: 528\n",
      "\n",
      "\n",
      "Score: 0.6001\n",
      "Vitamin A Deficiency and Clinical Disease: An Historical Overview. Journal of\n",
      "Nutrition, 138, 1835–39.http://jn.nutrition.org/content/138/10/ 1835.long.\n",
      "Accessed October 4, 2017. 524 | Fat-Soluble Vitamins\n",
      "Page number: 524\n",
      "\n",
      "\n",
      "Score: 0.5985\n",
      "Image by Allison Calabrese / CC BY 4.0 To combat this issue the Island Food\n",
      "Community of Pohnpei has been instrumental in promoting the citizens of Pohnpei\n",
      "to increase local karat banana consumption. The karat banana is rich in beta-\n",
      "carotene (a source of vitamin A) and increasing consumption among the locals\n",
      "will decrease the prevalence of vitamin A deficiencies in Pohnpei. For further\n",
      "information on this issue visit the Island Food Community of Pohnpei’s website\n",
      "at http://www.islandfood.org/ and watch the video at https://www.youtube.com/\n",
      "watch?v=DGVxnefqbTQ. Vitamins are organic compounds that are traditionally\n",
      "assigned to two groups fat-soluble (hydrophobic) or water-soluble (hydrophilic).\n",
      "This classification determines where they act in the body. Water-soluble\n",
      "vitamins act in the cytosol of cells or in extracellular fluids such as blood;\n",
      "fat-soluble vitamins are largely responsible for protecting cell membranes from\n",
      "free radical damage. The body can synthesize some vitamins, but others must be\n",
      "obtained from the diet. Figure 9.1 The Vitamins\n",
      "https://www.ncbi.nlm.nih.gov/pubmed/14984164. Accessed October 15, 2017.\n",
      "Introduction | 517\n",
      "Page number: 517\n",
      "\n",
      "\n",
      "Score: 0.5877\n",
      "Vitamin Sources Recommended Intake for adults Major functions Deficiency\n",
      "diseases and symptoms Vitamin A (retinol, retinal, retinoic acid,carotene, beta-\n",
      "carotene) Retinol: beef and chicken liver, skim milk, whole milk, cheddar\n",
      "cheese; Carotenoids: pumpkin, carrots, squash, collards, peas 700-900 mcg/day\n",
      "Antioxidant,vision, cell differentiation, reproduction, immune function\n",
      "Xerophthalmia, night blindness, eye infections; poor growth, dry skin, impaired\n",
      "immune function Vitamin D Swordfish, salmon, tuna, orange juice (fortified),\n",
      "milk (fortified), sardines, egg, synthesis from sunlight 600-800 IU/ day (15-20\n",
      "mcg/day) Absorption and regulation of calcium and phosphorus, maintenance of\n",
      "bone Rickets in children: abnormal growth, misshapen bones, bowed legs, soft\n",
      "bones; osteomalacia in adults Vitamin E Sunflower seeds, almonds,\n",
      "hazelnuts,peanuts 15 mg/day Antioxidant, protects cell membranes Broken red\n",
      "blood cells, nerve damage Vitamin K Vegetable oils, leafy greens, synthesis by\n",
      "intestinal bacteria 90-120 mcg/ day Synthesis of blood clotting proteins and\n",
      "proteins needed for bone health and cell growth Hemorrhage 548 | Fat-Soluble\n",
      "Vitamins\n",
      "Page number: 548\n",
      "\n",
      "\n"
     ]
    }
   ],
   "source": [
    "query = \"Vitamin A\"\n",
    "\n",
    "# Get just the scores and indices of top related results\n",
    "scores, indices = retrieve_relevant_resources(query=query, embeddings=embeddings)\n",
    "scores, indices\n",
    "\n",
    "# Print out the texts of the top scores\n",
    "print_top_results_and_scores(query=query, embeddings=embeddings)"
   ]
  },
  {
   "cell_type": "code",
   "execution_count": 11,
   "id": "320cf0c9",
   "metadata": {},
   "outputs": [
    {
     "name": "stdout",
     "output_type": "stream",
     "text": [
      "[INFO] Model loaded successfully on device: cpu\n"
     ]
    }
   ],
   "source": [
    "import torch\n",
    "from transformers import AutoTokenizer, AutoModelForCausalLM\n",
    "\n",
    "# Gunakan model Gemma versi kecil (1B parameter)\n",
    "model_id = \"google/gemma-3-1b-it\"\n",
    "\n",
    "# Load tokenizer\n",
    "tokenizer = AutoTokenizer.from_pretrained(model_id)\n",
    "\n",
    "llm_model = AutoModelForCausalLM.from_pretrained(\n",
    "    model_id,\n",
    "    device_map=\"auto\",  # otomatis ke CUDA jika tersedia\n",
    "    torch_dtype=torch.float16,        # hemat memori\n",
    "    low_cpu_mem_usage=True\n",
    ")\n",
    "\n",
    "# Verifikasi model berhasil dimuat\n",
    "print(f\"[INFO] Model loaded successfully on device: {llm_model.device}\")\n"
   ]
  },
  {
   "cell_type": "code",
   "execution_count": null,
   "id": "794b93e4",
   "metadata": {},
   "outputs": [
    {
     "name": "stdout",
     "output_type": "stream",
     "text": [
      "Explain the role of macronutrients in the human body.\n",
      "\n",
      "**Macronutrient Roles:**\n",
      "\n",
      "*   **Carbohydrates (45-70%):**\n",
      "    *   Primary energy source for the body, especially for brain and muscles.\n",
      "    *   Fueling activity levels, particularly during exercise.\n",
      "    *   Important for maintaining stable blood sugar levels.\n",
      "\n",
      "*   **Proteins (10-35%):**\n",
      "    *   Essential building blocks for tissues like muscle, bones, skin, hair, and nails\n"
     ]
    }
   ],
   "source": [
    "# Contoh inferensi\n",
    "query = \"Explain the role of macronutrients in the human body.\"\n",
    "inputs = tokenizer(query, return_tensors=\"pt\").to(llm_model.device)\n",
    "\n",
    "with torch.no_grad():\n",
    "    outputs = llm_model.generate(\n",
    "        **inputs,\n",
    "        max_new_tokens=100,\n",
    "        do_sample=True,\n",
    "        temperature=0.7,\n",
    "        top_k=50,\n",
    "        top_p=0.9,\n",
    "        repetition_penalty=1.2,\n",
    "        pad_token_id=tokenizer.eos_token_id,\n",
    "    )\n",
    "\n",
    "# Cetak hasil\n",
    "print(tokenizer.decode(outputs[0], skip_special_tokens=True))"
   ]
  },
  {
   "cell_type": "code",
   "execution_count": 14,
   "id": "f340963c",
   "metadata": {},
   "outputs": [
    {
     "data": {
      "text/plain": [
       "999885952"
      ]
     },
     "execution_count": 14,
     "metadata": {},
     "output_type": "execute_result"
    }
   ],
   "source": [
    "def get_model_num_params(model: torch.nn.Module):\n",
    "    return sum([param.numel() for param in model.parameters()])\n",
    "\n",
    "\n",
    "get_model_num_params(llm_model)"
   ]
  },
  {
   "cell_type": "code",
   "execution_count": 15,
   "id": "29781116",
   "metadata": {},
   "outputs": [
    {
     "name": "stdout",
     "output_type": "stream",
     "text": [
      "Input text:\n",
      "What are the macronutrients, and what roles do they play in the human body?\n",
      "\n",
      "Prompt (formatted):\n",
      "<bos><start_of_turn>user\n",
      "What are the macronutrients, and what roles do they play in the human body?<end_of_turn>\n",
      "<start_of_turn>model\n",
      "\n"
     ]
    }
   ],
   "source": [
    "input_text = (\n",
    "    \"What are the macronutrients, and what roles do they play in the human body?\"\n",
    ")\n",
    "print(f\"Input text:\\n{input_text}\")\n",
    "\n",
    "# Create prompt template for instruction-tuned model\n",
    "dialogue_template = [{\"role\": \"user\", \"content\": input_text}]\n",
    "\n",
    "# Apply the chat template\n",
    "prompt = tokenizer.apply_chat_template(\n",
    "    conversation=dialogue_template,\n",
    "    tokenize=False,  # keep as raw text (not tokenized)\n",
    "    add_generation_prompt=True,\n",
    ")\n",
    "print(f\"\\nPrompt (formatted):\\n{prompt}\")"
   ]
  },
  {
   "cell_type": "code",
   "execution_count": null,
   "id": "4dac3f53",
   "metadata": {},
   "outputs": [
    {
     "name": "stdout",
     "output_type": "stream",
     "text": [
      "Model input (tokenized):\n",
      "{'input_ids': tensor([[     2,      2,    105,   2364,    107,   3689,    659,    506, 216955,\n",
      "         151268, 236764,    532,   1144,  13616,    776,    901,   1441,    528,\n",
      "            506,   3246,   2742, 236881,    106,    107,    105,   4368,    107]]), 'attention_mask': tensor([[1, 1, 1, 1, 1, 1, 1, 1, 1, 1, 1, 1, 1, 1, 1, 1, 1, 1, 1, 1, 1, 1, 1, 1,\n",
      "         1, 1, 1]])}\n",
      "\n",
      "Model output (tokens):\n",
      "tensor([     2,      2,    105,   2364,    107,   3689,    659,    506, 216955,\n",
      "        151268, 236764,    532,   1144,  13616,    776,    901,   1441,    528,\n",
      "           506,   3246,   2742, 236881,    106,    107,    105,   4368,    107,\n",
      "         19058, 236764,   1531, 236789, 236751,   2541,   1679,    506, 216955,\n",
      "        151268,   1271,  57397, 236764,  12483, 236764,    532,  48377,   1271,\n",
      "           532,    910,  12763,  13616,    528,    822,   2742, 236761,   5715,\n",
      "        236858, 236751,    496,   9813,   1385, 236787,    108,   1018, 236770,\n",
      "        236761, 191286,  14473,   1018,    108, 236829,   5213,   3689,    901,\n",
      "           659,  53121, 191286,  14473,    659,    822,   2742, 236858, 236751,\n",
      "          5905,   2778,   3738, 236761,   2195,    659,  11207,   1679,   1131,\n",
      "         22422, 236764,    837,    506,   2742,   6178,    573,   7611, 236761,\n",
      "           107, 236829,   5213,  12285,  53121,    107,    140, 236829,   5213,\n",
      "         22575, 191286,  14473,    568, 182329,   1731,   1473,   1018,   7989,\n",
      "           528,  16391, 236764,  21949, 236764,   2633,   9792, 236764,    532,\n",
      "         18761,  15188, 236761,  39525,   3823,   2778, 236764,    840,    740,\n",
      "          4400,   7226,   4806,   9792,  57952, 236761,    107,    140, 236829,\n",
      "          5213,  48333, 191286,  14473,    568,   7032,   2391,    833,  60951,\n",
      "          1473,   1018,   7989,    528,   3697,  27075, 236764,  16062, 236764,\n",
      "         21556, 236764,    532, 106532, 236761,  39525,  23226,   2778,   5588,\n",
      "           532,    659,   1535,    573,  46338,   2404, 236761,    107, 236829,\n",
      "          5213,  66925,    528,    506,  21307,  53121,    107,    140, 236829,\n",
      "          5213,  35741,  17690,  53121,    138,    818,   2742, 236789, 236751,\n",
      "          1689,   7611,   3738, 236764,   6412,    573,    506,   7875,    532,\n",
      "         19064, 236761,    107,    140, 236829,   5213,  68316,  12939,  53121,\n",
      "           138, 173321,    563,  12763,    573,   7875,   1292,    532,   6571,\n",
      "        236761,    107,    140, 236829,   5213, 163452,  53121,    138,   9822,\n",
      "           975,  32961,  59202,  18560, 236764,  27364,  75796, 236764,    532,\n",
      "           740,   3718,  36142,   4535, 236761,    107,    140, 236829,   5213,\n",
      "         16067,   7452,  53121,    138, 163452,  43910,    528,  34685,  15398,\n",
      "           532,  33627,  14718,   2404, 236761,    109,   1018, 236778, 236761,\n",
      "        108486,   1018,    108, 236829,   5213,   3689,    901,    659,  53121,\n",
      "        108486,    659,   1603,    872,    529,  16986,  13834, 236764,    837,\n",
      "           659,    506,   3788,  11802,    529,  21346, 236761,    107, 236829,\n",
      "          5213,  12285,  53121,    107,    140, 236829,   5213,  25146, 108486,\n",
      "         53121,  83167,    784,  10155,   5250,  16986,  13834,    600,    822,\n",
      "          2742,    740, 236789, 236745,   6360,    580,   1061,   1852, 236761,\n",
      "          7989,    528,   7626,   7021,   1133,  11495, 236764,  50715, 236764,\n",
      "          5385, 236764,  14318, 236764,    532,  26283, 236761,    107,    140,\n",
      "        236829,   5213,    902,  17302, 108486,  53121,  63456,    886,    653,\n",
      "           919,   5250,  16986,  13834, 236761,   7989,    528,   3732,   7021,\n",
      "          1133,  21556, 236764, 144960, 236764,  22350, 236764,  15003, 236764,\n",
      "           532,  27075, 236761,    107, 236829,   5213,  66925,    528,    506,\n",
      "         21307,  53121,    107,    140, 236829,   5213,  36161,    833,  50270,\n",
      "           522,    558,  40400,  53121,    138,  25151,   1365,    659,  13832,\n",
      "           573,   3788,    532,  61691,  19064, 236764,   5716, 236764,   5324,\n",
      "        236764,  26960, 236764,    532,   1032,  21346, 236761,    107,    140,\n",
      "        236829,   5213,   2730,   9771,    507,    833,  79506,   2699,  53121,\n",
      "           138,  12575,  28364,    568, 201615,    600, 174629,  48394,  12047,\n",
      "        236768,    532,  40935,    659,   1603,    529,  12483, 236761,    107,\n",
      "           140, 236829,   5213, 135375,   2253,  12939,  53121,    138,  16400,\n",
      "         15962,   1458,   1292, 236761,    107,    140, 236829,   5213,  40827,\n",
      "         53121, 108486,   6081,  28935,    532,  12123,   5459,    506,   2742,\n",
      "        236761,    109,   1018, 236800, 236761, 200386,    568,  75103,   2643,\n",
      "         62902,    108, 236829,   5213,   3689,    901,    659,  53121, 200386,\n",
      "           659,    496,  13832,   5280,    529,    506,   2742, 236764,   6655,\n",
      "          2778, 236764,  24284,  28560, 236764,    532,  11584,  34555,   3719,\n",
      "        236761,    107, 236829,   5213,  12285,  53121,    107,    140, 236829,\n",
      "          5213, 236773,  41708, 200386,  53121,   7989,  13336,    528,   7626,\n",
      "          3211,    568,  97941, 236764,  11018])\n",
      "\n",
      "CPU times: total: 5min 53s\n",
      "Wall time: 2min 1s\n"
     ]
    }
   ],
   "source": [
    "%%time\n",
    "# Tokenize the input text (turn it into numbers) and send it to GPU\n",
    "input_ids = tokenizer(prompt, return_tensors=\"pt\").to(\"cpu\")\n",
    "print(f\"Model input (tokenized):\\n{input_ids}\\n\")\n",
    "\n",
    "# Generate outputs passed on the tokenized input\n",
    "# See generate docs: https://huggingface.co/docs/transformers/v4.38.2/en/main_classes/text_generation#transformers.GenerationConfig \n",
    "outputs = llm_model.generate(**input_ids,\n",
    "                             max_new_tokens=500) # define the maximum number of new tokens to create\n",
    "print(f\"Model output (tokens):\\n{outputs[0]}\\n\")"
   ]
  },
  {
   "cell_type": "code",
   "execution_count": 20,
   "id": "1ade7bd1",
   "metadata": {},
   "outputs": [
    {
     "name": "stdout",
     "output_type": "stream",
     "text": [
      "Model output (decoded):\n",
      "<bos><bos><start_of_turn>user\n",
      "What are the macronutrients, and what roles do they play in the human body?<end_of_turn>\n",
      "<start_of_turn>model\n",
      "Okay, let's break down the macronutrients – carbohydrates, proteins, and fats – and their vital roles in your body. Here’s a detailed look:\n",
      "\n",
      "**1. Carbohydrates**\n",
      "\n",
      "* **What they are:** Carbohydrates are your body’s primary energy source. They are broken down into glucose, which the body uses for fuel.\n",
      "* **Types:**\n",
      "    * **Simple Carbohydrates (Sugars):** Found in fruits, honey, table sugar, and processed foods. Provide quick energy, but can cause rapid blood sugar spikes.\n",
      "    * **Complex Carbohydrates (Starches & Fiber):** Found in whole grains, vegetables, beans, and legumes. Provide sustained energy release and are good for digestive health.\n",
      "* **Roles in the Body:**\n",
      "    * **Energy Source:**  The body's main fuel source, particularly for the brain and muscles.\n",
      "    * **Brain Function:**  Glucose is vital for brain function and memory.\n",
      "    * **Fiber:**  Helps regulate bowel movements, prevents constipation, and can lower cholesterol levels.\n",
      "    * **Digestion:**  Fiber aids in nutrient absorption and promotes gut health.\n",
      "\n",
      "\n",
      "**2. Proteins**\n",
      "\n",
      "* **What they are:** Proteins are made up of amino acids, which are the building blocks of tissues.\n",
      "* **Types:**\n",
      "    * **Complete Proteins:** Contain all nine essential amino acids that your body can't produce on its own. Found in animal sources like meat, poultry, fish, eggs, and dairy.\n",
      "    * **Incomplete Proteins:** Lack one or more essential amino acids. Found in plant sources like beans, lentils, nuts, seeds, and grains.\n",
      "* **Roles in the Body:**\n",
      "    * **Building & Repairing Tissues:**  Proteins are crucial for building and repairing muscles, skin, hair, nails, and other tissues.\n",
      "    * **Enzymes & Hormones:**  Many enzymes (proteins that catalyze biochemical reactions) and hormones are made of proteins.\n",
      "    * **Immune Function:**  Support immune system function.\n",
      "    * **Transport:** Proteins carry nutrients and oxygen throughout the body.\n",
      "\n",
      "\n",
      "**3. Fats (Lipids)**\n",
      "\n",
      "* **What they are:** Fats are a crucial component of the body, providing energy, protecting organs, and supporting hormone production.\n",
      "* **Types:**\n",
      "    * **Saturated Fats:** Found primarily in animal products (meat, butter\n",
      "\n"
     ]
    }
   ],
   "source": [
    "# Decode the output tokens to text\n",
    "outputs_decoded = tokenizer.decode(outputs[0])\n",
    "print(f\"Model output (decoded):\\n{outputs_decoded}\\n\")"
   ]
  },
  {
   "cell_type": "markdown",
   "id": "b706f6a4",
   "metadata": {},
   "source": [
    "## 5. Prompting\n"
   ]
  },
  {
   "cell_type": "markdown",
   "id": "50d35a50",
   "metadata": {},
   "source": [
    "## 6. Answer Generation\n"
   ]
  },
  {
   "cell_type": "code",
   "execution_count": 22,
   "id": "9255aad9",
   "metadata": {},
   "outputs": [
    {
     "name": "stdout",
     "output_type": "stream",
     "text": [
      "Daftar paket berhasil disimpan ke requirements.txt\n"
     ]
    }
   ],
   "source": [
    "import subprocess\n",
    "\n",
    "\n",
    "def export_requirements(output_file=\"requirements.txt\"):\n",
    "    try:\n",
    "        # Jalankan pip freeze dan arahkan outputnya ke file\n",
    "        with open(output_file, \"w\") as f:\n",
    "            subprocess.check_call([\"pip\", \"freeze\"], stdout=f)\n",
    "        print(f\"Daftar paket berhasil disimpan ke {output_file}\")\n",
    "    except subprocess.CalledProcessError as e:\n",
    "        print(f\"Gagal mengekspor paket: {e}\")\n",
    "\n",
    "\n",
    "export_requirements()  # akan menyimpan ke requirements.txt"
   ]
  },
  {
   "cell_type": "code",
   "execution_count": null,
   "id": "12141319",
   "metadata": {},
   "outputs": [],
   "source": []
  }
 ],
 "metadata": {
  "kernelspec": {
   "display_name": "local_rag_gemma_env",
   "language": "python",
   "name": "python3"
  },
  "language_info": {
   "codemirror_mode": {
    "name": "ipython",
    "version": 3
   },
   "file_extension": ".py",
   "mimetype": "text/x-python",
   "name": "python",
   "nbconvert_exporter": "python",
   "pygments_lexer": "ipython3",
   "version": "3.10.16"
  }
 },
 "nbformat": 4,
 "nbformat_minor": 5
}
